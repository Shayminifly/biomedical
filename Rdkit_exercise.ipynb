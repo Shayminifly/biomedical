{
 "cells": [
  {
   "cell_type": "markdown",
   "metadata": {},
   "source": [
    "# Machine learning to predict molecule properties : solubility\n",
    "\n"
   ]
  },
  {
   "cell_type": "markdown",
   "metadata": {},
   "source": [
    "The solubility of molecules is an important property in many applications like for drug selection or for compound selection for battery designes (no link to health).\n",
    "\n",
    "Being able to predict the solubility of a molecule from its formula instead of having to make measuring experiment in an important aspect to enhanced fatester molecule discovery.\n",
    "\n",
    "In this notebook we will do basic solubility prediction with machine learning models and rdkit\n"
   ]
  },
  {
   "cell_type": "markdown",
   "metadata": {},
   "source": [
    "Install the python rdkit package with pip or conda\n",
    "\n",
    "cf https://www.rdkit.org/docs/index.html"
   ]
  },
  {
   "cell_type": "code",
   "execution_count": 1,
   "metadata": {
    "colab": {
     "base_uri": "https://localhost:8080/"
    },
    "executionInfo": {
     "elapsed": 2860,
     "status": "ok",
     "timestamp": 1629702158983,
     "user": {
      "displayName": "ngoc mac",
      "photoUrl": "",
      "userId": "17981024361133171440"
     },
     "user_tz": -120
    },
    "id": "9qJCFDsxp3wJ",
    "outputId": "cd1a6ec7-05db-40e0-ac62-aeae454084d9"
   },
   "outputs": [],
   "source": [
    "import rdkit"
   ]
  },
  {
   "cell_type": "markdown",
   "metadata": {},
   "source": [
    "# Molecule representations with Rdkit"
   ]
  },
  {
   "cell_type": "markdown",
   "metadata": {},
   "source": [
    "Rdkit is a package allowing to work with molecule data and their representation. \n",
    "\n",
    "For basic manipulations, the main submodule is **Chem**\n",
    "\n"
   ]
  },
  {
   "cell_type": "markdown",
   "metadata": {
    "id": "TYs-WClCqSsy"
   },
   "source": [
    "### Smile representation\n",
    "\n",
    "Smile lets represent molecules with text strings\n",
    "\n",
    "\n"
   ]
  },
  {
   "cell_type": "markdown",
   "metadata": {},
   "source": [
    "The following string contains the SMILE representation of the paracetamol molecule"
   ]
  },
  {
   "cell_type": "code",
   "execution_count": 2,
   "metadata": {},
   "outputs": [],
   "source": [
    "smile = 'CC(=O)NC1=CC=C(O)C=C1'"
   ]
  },
  {
   "cell_type": "markdown",
   "metadata": {},
   "source": [
    "import rdkit and the Chem submodule"
   ]
  },
  {
   "cell_type": "code",
   "execution_count": 7,
   "metadata": {},
   "outputs": [],
   "source": [
    "from rdkit import Chem"
   ]
  },
  {
   "cell_type": "markdown",
   "metadata": {},
   "source": [
    "Using the MolFromSmiles function, create a molecule from the smile representation and print its types"
   ]
  },
  {
   "cell_type": "code",
   "execution_count": 5,
   "metadata": {
    "executionInfo": {
     "elapsed": 191,
     "status": "ok",
     "timestamp": 1629700076159,
     "user": {
      "displayName": "ngoc mac",
      "photoUrl": "",
      "userId": "17981024361133171440"
     },
     "user_tz": -120
    },
    "id": "ccbbFmLOqDJV"
   },
   "outputs": [],
   "source": [
    "mol = Chem.MolFromSmiles(smile)"
   ]
  },
  {
   "cell_type": "markdown",
   "metadata": {},
   "source": [
    "With the MolToImage function of the Draw package, display the molecule"
   ]
  },
  {
   "cell_type": "code",
   "execution_count": 8,
   "metadata": {
    "colab": {
     "base_uri": "https://localhost:8080/",
     "height": 337
    },
    "executionInfo": {
     "elapsed": 332,
     "status": "ok",
     "timestamp": 1629700165128,
     "user": {
      "displayName": "ngoc mac",
      "photoUrl": "",
      "userId": "17981024361133171440"
     },
     "user_tz": -120
    },
    "id": "8snxocdqsKNJ",
    "outputId": "71e86bf6-8290-4307-e8e5-d381532e657d"
   },
   "outputs": [
    {
     "data": {
      "image/png": "[encoded data removed]",
      "text/plain": [
       "<PIL.PngImagePlugin.PngImageFile image mode=RGB size=300x300 at 0x7F7C825DB550>"
      ]
     },
     "execution_count": 8,
     "metadata": {},
     "output_type": "execute_result"
    }
   ],
   "source": [
    "Chem.Draw.MolToImage(mol)"
   ]
  },
  {
   "cell_type": "markdown",
   "metadata": {},
   "source": [
    "You can get the Number of atoms of the molecules and the list of atoms with the methods GetNumAtoms and getAtoms.\n",
    "\n",
    "Print the number of atoms of the molecule"
   ]
  },
  {
   "cell_type": "code",
   "execution_count": 12,
   "metadata": {
    "colab": {
     "base_uri": "https://localhost:8080/"
    },
    "executionInfo": {
     "elapsed": 672,
     "status": "ok",
     "timestamp": 1629700424946,
     "user": {
      "displayName": "ngoc mac",
      "photoUrl": "",
      "userId": "17981024361133171440"
     },
     "user_tz": -120
    },
    "id": "3yiWFSgdsk0j",
    "outputId": "00414426-74e1-464b-b82f-5b9adfe21439"
   },
   "outputs": [
    {
     "data": {
      "text/plain": [
       "<rdkit.Chem.rdchem._ROAtomSeq at 0x7f7c260f2f40>"
      ]
     },
     "execution_count": 12,
     "metadata": {},
     "output_type": "execute_result"
    }
   ],
   "source": [
    "mol.GetAtoms()"
   ]
  },
  {
   "cell_type": "code",
   "execution_count": 13,
   "metadata": {},
   "outputs": [
    {
     "data": {
      "text/plain": [
       "11"
      ]
     },
     "execution_count": 13,
     "metadata": {},
     "output_type": "execute_result"
    }
   ],
   "source": [
    "mol.GetNumAtoms()"
   ]
  },
  {
   "cell_type": "markdown",
   "metadata": {},
   "source": [
    "If you compare to the picture, you may see that the number of atoms is not 11. What is the total number and why rdkit do not give the same answer ?"
   ]
  },
  {
   "cell_type": "markdown",
   "metadata": {},
   "source": [
    "Compte pas atomes H"
   ]
  },
  {
   "cell_type": "markdown",
   "metadata": {},
   "source": [
    "Print the list of each atoms"
   ]
  },
  {
   "cell_type": "code",
   "execution_count": 15,
   "metadata": {
    "colab": {
     "base_uri": "https://localhost:8080/"
    },
    "executionInfo": {
     "elapsed": 280,
     "status": "ok",
     "timestamp": 1629700428713,
     "user": {
      "displayName": "ngoc mac",
      "photoUrl": "",
      "userId": "17981024361133171440"
     },
     "user_tz": -120
    },
    "id": "4rN88u9dtueQ",
    "outputId": "77b26a06-1f02-424b-bc61-f60da1633e63"
   },
   "outputs": [
    {
     "name": "stdout",
     "output_type": "stream",
     "text": [
      "C\n",
      "C\n",
      "O\n",
      "N\n",
      "C\n",
      "C\n",
      "C\n",
      "C\n",
      "O\n",
      "C\n",
      "C\n"
     ]
    }
   ],
   "source": [
    "for at in mol.GetAtoms():\n",
    "    print(at.GetSymbol())"
   ]
  },
  {
   "cell_type": "markdown",
   "metadata": {},
   "source": []
  },
  {
   "cell_type": "markdown",
   "metadata": {},
   "source": [
    "Store the number of bonds of the molecule in **n_bond** (look which method can be used for that) and print"
   ]
  },
  {
   "cell_type": "code",
   "execution_count": 17,
   "metadata": {
    "colab": {
     "base_uri": "https://localhost:8080/"
    },
    "executionInfo": {
     "elapsed": 199,
     "status": "ok",
     "timestamp": 1629700509091,
     "user": {
      "displayName": "ngoc mac",
      "photoUrl": "",
      "userId": "17981024361133171440"
     },
     "user_tz": -120
    },
    "id": "4BJGnXswtxFV",
    "outputId": "5c35338b-3772-48dd-93b9-059c7bb58ce9"
   },
   "outputs": [
    {
     "data": {
      "text/plain": [
       "11"
      ]
     },
     "execution_count": 17,
     "metadata": {},
     "output_type": "execute_result"
    }
   ],
   "source": [
    "n_bond = mol.GetNumBonds()\n",
    "n_bond"
   ]
  },
  {
   "cell_type": "markdown",
   "metadata": {},
   "source": [
    "For each bond, print if the bond is single or double"
   ]
  },
  {
   "cell_type": "code",
   "execution_count": 21,
   "metadata": {},
   "outputs": [
    {
     "name": "stdout",
     "output_type": "stream",
     "text": [
      "SINGLE\n",
      "DOUBLE\n",
      "SINGLE\n",
      "SINGLE\n",
      "AROMATIC\n",
      "AROMATIC\n",
      "AROMATIC\n",
      "SINGLE\n",
      "AROMATIC\n",
      "AROMATIC\n",
      "AROMATIC\n"
     ]
    }
   ],
   "source": [
    "for bond in mol.GetBonds():\n",
    "    print(bond.GetBondType())"
   ]
  },
  {
   "cell_type": "markdown",
   "metadata": {
    "id": "5ch4vabFuReu"
   },
   "source": [
    "### Reading molecule data from file\n",
    "\n",
    "Apart SMILES, .SDF/ .Mol are also the common formats to save molecules. RDKit provides also functionalities to read these files.\n",
    "\n",
    "\n",
    "Morphine is an opioid agonist used for the relief of moderate to severe acute and chronic pain. The chemical information of this drug can be found at \n",
    "\"https://go.drugbank.com/structures/small_molecule_drugs/DB00295.sdf\". \n",
    "\n",
    "\n",
    "Download this file and save it in a folder. \n",
    "\n"
   ]
  },
  {
   "cell_type": "markdown",
   "metadata": {},
   "source": []
  },
  {
   "cell_type": "markdown",
   "metadata": {},
   "source": [
    "\n",
    "Read the morphine molecule from the file that you've downloaded using \"rdkit.Chem.SDMolSupplier\" and store the result in a variable named **morphine**\n",
    "\n"
   ]
  },
  {
   "cell_type": "code",
   "execution_count": 50,
   "metadata": {},
   "outputs": [
    {
     "data": {
      "text/plain": [
       "rdkit.Chem.rdchem.Mol"
      ]
     },
     "execution_count": 50,
     "metadata": {},
     "output_type": "execute_result"
    }
   ],
   "source": [
    "morphineList = rdkit.Chem.SDMolSupplier(\"DB00295.sdf\")\n",
    "type(morphine)"
   ]
  },
  {
   "cell_type": "markdown",
   "metadata": {},
   "source": [
    "Display its type"
   ]
  },
  {
   "cell_type": "raw",
   "metadata": {},
   "source": []
  },
  {
   "cell_type": "markdown",
   "metadata": {},
   "source": [
    "Display the picture of the molecule\n"
   ]
  },
  {
   "cell_type": "code",
   "execution_count": 28,
   "metadata": {},
   "outputs": [
    {
     "data": {
      "image/png": "[encoded data removed]",
      "text/plain": [
       "<PIL.Image.Image image mode=RGBA size=200x200 at 0x7F7C25612970>"
      ]
     },
     "execution_count": 28,
     "metadata": {},
     "output_type": "execute_result"
    }
   ],
   "source": [
    "#for mol in morphine:\n",
    "Chem.Draw.MolsToImage(morphine)"
   ]
  },
  {
   "cell_type": "markdown",
   "metadata": {},
   "source": [
    "Display the number of atoms and the number of bonds"
   ]
  },
  {
   "cell_type": "code",
   "execution_count": 29,
   "metadata": {},
   "outputs": [],
   "source": [
    "morphine = morphine[0]"
   ]
  },
  {
   "cell_type": "code",
   "execution_count": 30,
   "metadata": {},
   "outputs": [
    {
     "data": {
      "text/plain": [
       "21"
      ]
     },
     "execution_count": 30,
     "metadata": {},
     "output_type": "execute_result"
    }
   ],
   "source": [
    "morphine.GetNumAtoms()"
   ]
  },
  {
   "cell_type": "code",
   "execution_count": 31,
   "metadata": {},
   "outputs": [
    {
     "data": {
      "text/plain": [
       "25"
      ]
     },
     "execution_count": 31,
     "metadata": {},
     "output_type": "execute_result"
    }
   ],
   "source": [
    "morphine.GetNumBonds()"
   ]
  },
  {
   "cell_type": "markdown",
   "metadata": {
    "id": "GZXsjZGw3ofC"
   },
   "source": [
    "### Descriptors \n",
    "\n",
    "\n",
    "Molecules are also described by a set of physiochemical descriptors like \n",
    "- the log partition coefficient,\n",
    "- the polar surface area ... that describe the molecule's structure.\n",
    "\n",
    "\n",
    "RDKit provides utilities that allow us to compute descriptor of molecules.\n",
    "\n",
    "The rdkit.ML.Descriptors module and its sub module let us compute molecule descriptors."
   ]
  },
  {
   "cell_type": "markdown",
   "metadata": {},
   "source": [
    "the rdkit.ML.Descriptors module has an attribute name \\_descList, display it"
   ]
  },
  {
   "cell_type": "code",
   "execution_count": 74,
   "metadata": {},
   "outputs": [],
   "source": [
    "from rdkit.Chem import Descriptors"
   ]
  },
  {
   "cell_type": "code",
   "execution_count": 75,
   "metadata": {},
   "outputs": [
    {
     "data": {
      "text/plain": [
       "[('MaxEStateIndex',\n",
       "  <function rdkit.Chem.EState.EState.MaxEStateIndex(mol, force=1)>),\n",
       " ('MinEStateIndex',\n",
       "  <function rdkit.Chem.EState.EState.MinEStateIndex(mol, force=1)>),\n",
       " ('MaxAbsEStateIndex',\n",
       "  <function rdkit.Chem.EState.EState.MaxAbsEStateIndex(mol, force=1)>),\n",
       " ('MinAbsEStateIndex',\n",
       "  <function rdkit.Chem.EState.EState.MinAbsEStateIndex(mol, force=1)>),\n",
       " ('qed',\n",
       "  <function rdkit.Chem.QED.qed(mol, w=QEDproperties(MW=0.66, ALOGP=0.46, HBA=0.05, HBD=0.61, PSA=0.06, ROTB=0.65, AROM=0.48, ALERTS=0.95), qedProperties=None)>),\n",
       " ('MolWt', <function rdkit.Chem.Descriptors.<lambda>(*x, **y)>),\n",
       " ('HeavyAtomMolWt', <function rdkit.Chem.Descriptors.HeavyAtomMolWt(x)>),\n",
       " ('ExactMolWt', <function rdkit.Chem.Descriptors.<lambda>(*x, **y)>),\n",
       " ('NumValenceElectrons',\n",
       "  <function rdkit.Chem.Descriptors.NumValenceElectrons(mol)>),\n",
       " ('NumRadicalElectrons',\n",
       "  <function rdkit.Chem.Descriptors.NumRadicalElectrons(mol)>),\n",
       " ('MaxPartialCharge',\n",
       "  <function rdkit.Chem.Descriptors.MaxPartialCharge(mol, force=False)>),\n",
       " ('MinPartialCharge',\n",
       "  <function rdkit.Chem.Descriptors.MinPartialCharge(mol, force=False)>),\n",
       " ('MaxAbsPartialCharge',\n",
       "  <function rdkit.Chem.Descriptors.MaxAbsPartialCharge(mol, force=False)>),\n",
       " ('MinAbsPartialCharge',\n",
       "  <function rdkit.Chem.Descriptors.MinAbsPartialCharge(mol, force=False)>),\n",
       " ('FpDensityMorgan1', <function rdkit.Chem.Descriptors.FpDensityMorgan1(x)>),\n",
       " ('FpDensityMorgan2', <function rdkit.Chem.Descriptors.FpDensityMorgan2(x)>),\n",
       " ('FpDensityMorgan3', <function rdkit.Chem.Descriptors.FpDensityMorgan3(x)>),\n",
       " ('BCUT2D_MWHI',\n",
       "  <function rdkit.Chem.ChemUtils.DescriptorUtilities.BCUT2D_MWHI(mol, index=0)>),\n",
       " ('BCUT2D_MWLOW',\n",
       "  <function rdkit.Chem.ChemUtils.DescriptorUtilities.BCUT2D_MWLOW(mol, index=1)>),\n",
       " ('BCUT2D_CHGHI',\n",
       "  <function rdkit.Chem.ChemUtils.DescriptorUtilities.BCUT2D_CHGHI(mol, index=2)>),\n",
       " ('BCUT2D_CHGLO',\n",
       "  <function rdkit.Chem.ChemUtils.DescriptorUtilities.BCUT2D_CHGLO(mol, index=3)>),\n",
       " ('BCUT2D_LOGPHI',\n",
       "  <function rdkit.Chem.ChemUtils.DescriptorUtilities.BCUT2D_LOGPHI(mol, index=4)>),\n",
       " ('BCUT2D_LOGPLOW',\n",
       "  <function rdkit.Chem.ChemUtils.DescriptorUtilities.BCUT2D_LOGPLOW(mol, index=5)>),\n",
       " ('BCUT2D_MRHI',\n",
       "  <function rdkit.Chem.ChemUtils.DescriptorUtilities.BCUT2D_MRHI(mol, index=6)>),\n",
       " ('BCUT2D_MRLOW',\n",
       "  <function rdkit.Chem.ChemUtils.DescriptorUtilities.BCUT2D_MRLOW(mol, index=7)>),\n",
       " ('BalabanJ',\n",
       "  <function rdkit.Chem.GraphDescriptors.BalabanJ(mol, dMat=None, forceDMat=0)>),\n",
       " ('BertzCT',\n",
       "  <function rdkit.Chem.GraphDescriptors.BertzCT(mol, cutoff=100, dMat=None, forceDMat=1)>),\n",
       " ('Chi0', <function rdkit.Chem.GraphDescriptors.Chi0(mol)>),\n",
       " ('Chi0n', <function rdkit.Chem.GraphDescriptors.<lambda>(x)>),\n",
       " ('Chi0v', <function rdkit.Chem.GraphDescriptors.<lambda>(x)>),\n",
       " ('Chi1', <function rdkit.Chem.GraphDescriptors.Chi1(mol)>),\n",
       " ('Chi1n', <function rdkit.Chem.GraphDescriptors.<lambda>(x)>),\n",
       " ('Chi1v', <function rdkit.Chem.GraphDescriptors.<lambda>(x)>),\n",
       " ('Chi2n', <function rdkit.Chem.GraphDescriptors.<lambda>(x)>),\n",
       " ('Chi2v', <function rdkit.Chem.GraphDescriptors.<lambda>(x)>),\n",
       " ('Chi3n', <function rdkit.Chem.GraphDescriptors.<lambda>(x)>),\n",
       " ('Chi3v', <function rdkit.Chem.GraphDescriptors.<lambda>(x)>),\n",
       " ('Chi4n', <function rdkit.Chem.GraphDescriptors.<lambda>(x)>),\n",
       " ('Chi4v', <function rdkit.Chem.GraphDescriptors.<lambda>(x)>),\n",
       " ('HallKierAlpha', <function rdkit.Chem.GraphDescriptors.<lambda>(x)>),\n",
       " ('Ipc',\n",
       "  <function rdkit.Chem.GraphDescriptors.Ipc(mol, avg=0, dMat=None, forceDMat=0)>),\n",
       " ('Kappa1', <function rdkit.Chem.GraphDescriptors.<lambda>(x)>),\n",
       " ('Kappa2', <function rdkit.Chem.GraphDescriptors.<lambda>(x)>),\n",
       " ('Kappa3', <function rdkit.Chem.GraphDescriptors.<lambda>(x)>),\n",
       " ('LabuteASA', <function rdkit.Chem.MolSurf.<lambda>(*x, **y)>),\n",
       " ('PEOE_VSA1',\n",
       "  <function rdkit.Chem.MolSurf._InstallDescriptors.<locals>.<lambda>(x, y=0)>),\n",
       " ('PEOE_VSA10',\n",
       "  <function rdkit.Chem.MolSurf._InstallDescriptors.<locals>.<lambda>(x, y=9)>),\n",
       " ('PEOE_VSA11',\n",
       "  <function rdkit.Chem.MolSurf._InstallDescriptors.<locals>.<lambda>(x, y=10)>),\n",
       " ('PEOE_VSA12',\n",
       "  <function rdkit.Chem.MolSurf._InstallDescriptors.<locals>.<lambda>(x, y=11)>),\n",
       " ('PEOE_VSA13',\n",
       "  <function rdkit.Chem.MolSurf._InstallDescriptors.<locals>.<lambda>(x, y=12)>),\n",
       " ('PEOE_VSA14',\n",
       "  <function rdkit.Chem.MolSurf._InstallDescriptors.<locals>.<lambda>(x, y=13)>),\n",
       " ('PEOE_VSA2',\n",
       "  <function rdkit.Chem.MolSurf._InstallDescriptors.<locals>.<lambda>(x, y=1)>),\n",
       " ('PEOE_VSA3',\n",
       "  <function rdkit.Chem.MolSurf._InstallDescriptors.<locals>.<lambda>(x, y=2)>),\n",
       " ('PEOE_VSA4',\n",
       "  <function rdkit.Chem.MolSurf._InstallDescriptors.<locals>.<lambda>(x, y=3)>),\n",
       " ('PEOE_VSA5',\n",
       "  <function rdkit.Chem.MolSurf._InstallDescriptors.<locals>.<lambda>(x, y=4)>),\n",
       " ('PEOE_VSA6',\n",
       "  <function rdkit.Chem.MolSurf._InstallDescriptors.<locals>.<lambda>(x, y=5)>),\n",
       " ('PEOE_VSA7',\n",
       "  <function rdkit.Chem.MolSurf._InstallDescriptors.<locals>.<lambda>(x, y=6)>),\n",
       " ('PEOE_VSA8',\n",
       "  <function rdkit.Chem.MolSurf._InstallDescriptors.<locals>.<lambda>(x, y=7)>),\n",
       " ('PEOE_VSA9',\n",
       "  <function rdkit.Chem.MolSurf._InstallDescriptors.<locals>.<lambda>(x, y=8)>),\n",
       " ('SMR_VSA1',\n",
       "  <function rdkit.Chem.MolSurf._InstallDescriptors.<locals>.<lambda>(x, y=0)>),\n",
       " ('SMR_VSA10',\n",
       "  <function rdkit.Chem.MolSurf._InstallDescriptors.<locals>.<lambda>(x, y=9)>),\n",
       " ('SMR_VSA2',\n",
       "  <function rdkit.Chem.MolSurf._InstallDescriptors.<locals>.<lambda>(x, y=1)>),\n",
       " ('SMR_VSA3',\n",
       "  <function rdkit.Chem.MolSurf._InstallDescriptors.<locals>.<lambda>(x, y=2)>),\n",
       " ('SMR_VSA4',\n",
       "  <function rdkit.Chem.MolSurf._InstallDescriptors.<locals>.<lambda>(x, y=3)>),\n",
       " ('SMR_VSA5',\n",
       "  <function rdkit.Chem.MolSurf._InstallDescriptors.<locals>.<lambda>(x, y=4)>),\n",
       " ('SMR_VSA6',\n",
       "  <function rdkit.Chem.MolSurf._InstallDescriptors.<locals>.<lambda>(x, y=5)>),\n",
       " ('SMR_VSA7',\n",
       "  <function rdkit.Chem.MolSurf._InstallDescriptors.<locals>.<lambda>(x, y=6)>),\n",
       " ('SMR_VSA8',\n",
       "  <function rdkit.Chem.MolSurf._InstallDescriptors.<locals>.<lambda>(x, y=7)>),\n",
       " ('SMR_VSA9',\n",
       "  <function rdkit.Chem.MolSurf._InstallDescriptors.<locals>.<lambda>(x, y=8)>),\n",
       " ('SlogP_VSA1',\n",
       "  <function rdkit.Chem.MolSurf._InstallDescriptors.<locals>.<lambda>(x, y=0)>),\n",
       " ('SlogP_VSA10',\n",
       "  <function rdkit.Chem.MolSurf._InstallDescriptors.<locals>.<lambda>(x, y=9)>),\n",
       " ('SlogP_VSA11',\n",
       "  <function rdkit.Chem.MolSurf._InstallDescriptors.<locals>.<lambda>(x, y=10)>),\n",
       " ('SlogP_VSA12',\n",
       "  <function rdkit.Chem.MolSurf._InstallDescriptors.<locals>.<lambda>(x, y=11)>),\n",
       " ('SlogP_VSA2',\n",
       "  <function rdkit.Chem.MolSurf._InstallDescriptors.<locals>.<lambda>(x, y=1)>),\n",
       " ('SlogP_VSA3',\n",
       "  <function rdkit.Chem.MolSurf._InstallDescriptors.<locals>.<lambda>(x, y=2)>),\n",
       " ('SlogP_VSA4',\n",
       "  <function rdkit.Chem.MolSurf._InstallDescriptors.<locals>.<lambda>(x, y=3)>),\n",
       " ('SlogP_VSA5',\n",
       "  <function rdkit.Chem.MolSurf._InstallDescriptors.<locals>.<lambda>(x, y=4)>),\n",
       " ('SlogP_VSA6',\n",
       "  <function rdkit.Chem.MolSurf._InstallDescriptors.<locals>.<lambda>(x, y=5)>),\n",
       " ('SlogP_VSA7',\n",
       "  <function rdkit.Chem.MolSurf._InstallDescriptors.<locals>.<lambda>(x, y=6)>),\n",
       " ('SlogP_VSA8',\n",
       "  <function rdkit.Chem.MolSurf._InstallDescriptors.<locals>.<lambda>(x, y=7)>),\n",
       " ('SlogP_VSA9',\n",
       "  <function rdkit.Chem.MolSurf._InstallDescriptors.<locals>.<lambda>(x, y=8)>),\n",
       " ('TPSA', <function rdkit.Chem.MolSurf.<lambda>(*x, **y)>),\n",
       " ('EState_VSA1', <function rdkit.Chem.EState.EState_VSA.EState_VSA1(mol)>),\n",
       " ('EState_VSA10', <function rdkit.Chem.EState.EState_VSA.EState_VSA10(mol)>),\n",
       " ('EState_VSA11', <function rdkit.Chem.EState.EState_VSA.EState_VSA11(mol)>),\n",
       " ('EState_VSA2', <function rdkit.Chem.EState.EState_VSA.EState_VSA2(mol)>),\n",
       " ('EState_VSA3', <function rdkit.Chem.EState.EState_VSA.EState_VSA3(mol)>),\n",
       " ('EState_VSA4', <function rdkit.Chem.EState.EState_VSA.EState_VSA4(mol)>),\n",
       " ('EState_VSA5', <function rdkit.Chem.EState.EState_VSA.EState_VSA5(mol)>),\n",
       " ('EState_VSA6', <function rdkit.Chem.EState.EState_VSA.EState_VSA6(mol)>),\n",
       " ('EState_VSA7', <function rdkit.Chem.EState.EState_VSA.EState_VSA7(mol)>),\n",
       " ('EState_VSA8', <function rdkit.Chem.EState.EState_VSA.EState_VSA8(mol)>),\n",
       " ('EState_VSA9', <function rdkit.Chem.EState.EState_VSA.EState_VSA9(mol)>),\n",
       " ('VSA_EState1',\n",
       "  <function rdkit.Chem.EState.EState_VSA._descriptor_VSA_EState.<locals>.VSA_EState_bin(mol)>),\n",
       " ('VSA_EState10',\n",
       "  <function rdkit.Chem.EState.EState_VSA._descriptor_VSA_EState.<locals>.VSA_EState_bin(mol)>),\n",
       " ('VSA_EState2',\n",
       "  <function rdkit.Chem.EState.EState_VSA._descriptor_VSA_EState.<locals>.VSA_EState_bin(mol)>),\n",
       " ('VSA_EState3',\n",
       "  <function rdkit.Chem.EState.EState_VSA._descriptor_VSA_EState.<locals>.VSA_EState_bin(mol)>),\n",
       " ('VSA_EState4',\n",
       "  <function rdkit.Chem.EState.EState_VSA._descriptor_VSA_EState.<locals>.VSA_EState_bin(mol)>),\n",
       " ('VSA_EState5',\n",
       "  <function rdkit.Chem.EState.EState_VSA._descriptor_VSA_EState.<locals>.VSA_EState_bin(mol)>),\n",
       " ('VSA_EState6',\n",
       "  <function rdkit.Chem.EState.EState_VSA._descriptor_VSA_EState.<locals>.VSA_EState_bin(mol)>),\n",
       " ('VSA_EState7',\n",
       "  <function rdkit.Chem.EState.EState_VSA._descriptor_VSA_EState.<locals>.VSA_EState_bin(mol)>),\n",
       " ('VSA_EState8',\n",
       "  <function rdkit.Chem.EState.EState_VSA._descriptor_VSA_EState.<locals>.VSA_EState_bin(mol)>),\n",
       " ('VSA_EState9',\n",
       "  <function rdkit.Chem.EState.EState_VSA._descriptor_VSA_EState.<locals>.VSA_EState_bin(mol)>),\n",
       " ('FractionCSP3',\n",
       "  <function rdkit.Chem.Lipinski.<lambda>(x, y=<Boost.Python.function object at 0x1d3e400>)>),\n",
       " ('HeavyAtomCount', <function rdkit.Chem.Lipinski.HeavyAtomCount(mol)>),\n",
       " ('NHOHCount', <function rdkit.Chem.Lipinski.<lambda>(x)>),\n",
       " ('NOCount', <function rdkit.Chem.Lipinski.<lambda>(x)>),\n",
       " ('NumAliphaticCarbocycles',\n",
       "  <function rdkit.Chem.Lipinski.<lambda>(x, y=<Boost.Python.function object at 0x1d10a70>)>),\n",
       " ('NumAliphaticHeterocycles',\n",
       "  <function rdkit.Chem.Lipinski.<lambda>(x, y=<Boost.Python.function object at 0x1d10a00>)>),\n",
       " ('NumAliphaticRings',\n",
       "  <function rdkit.Chem.Lipinski.<lambda>(x, y=<Boost.Python.function object at 0x1d4e730>)>),\n",
       " ('NumAromaticCarbocycles',\n",
       "  <function rdkit.Chem.Lipinski.<lambda>(x, y=<Boost.Python.function object at 0x1d291a0>)>),\n",
       " ('NumAromaticHeterocycles',\n",
       "  <function rdkit.Chem.Lipinski.<lambda>(x, y=<Boost.Python.function object at 0x1d29130>)>),\n",
       " ('NumAromaticRings',\n",
       "  <function rdkit.Chem.Lipinski.<lambda>(x, y=<Boost.Python.function object at 0x1ccd950>)>),\n",
       " ('NumHAcceptors', <function rdkit.Chem.Lipinski.<lambda>(x)>),\n",
       " ('NumHDonors', <function rdkit.Chem.Lipinski.<lambda>(x)>),\n",
       " ('NumHeteroatoms', <function rdkit.Chem.Lipinski.<lambda>(x)>),\n",
       " ('NumRotatableBonds', <function rdkit.Chem.Lipinski.<lambda>(x)>),\n",
       " ('NumSaturatedCarbocycles',\n",
       "  <function rdkit.Chem.Lipinski.<lambda>(x, y=<Boost.Python.function object at 0x1d4e6c0>)>),\n",
       " ('NumSaturatedHeterocycles',\n",
       "  <function rdkit.Chem.Lipinski.<lambda>(x, y=<Boost.Python.function object at 0x1cad220>)>),\n",
       " ('NumSaturatedRings',\n",
       "  <function rdkit.Chem.Lipinski.<lambda>(x, y=<Boost.Python.function object at 0x1ca0a50>)>),\n",
       " ('RingCount', <function rdkit.Chem.Lipinski.<lambda>(x)>),\n",
       " ('MolLogP', <function rdkit.Chem.Crippen.<lambda>(*x, **y)>),\n",
       " ('MolMR', <function rdkit.Chem.Crippen.<lambda>(*x, **y)>),\n",
       " ('fr_Al_COO',\n",
       "  <function rdkit.Chem.Fragments._LoadPatterns.<locals>.<lambda>(mol, countUnique=True, pattern=<rdkit.Chem.rdchem.Mol object at 0x7f7c255bba00>)>),\n",
       " ('fr_Al_OH',\n",
       "  <function rdkit.Chem.Fragments._LoadPatterns.<locals>.<lambda>(mol, countUnique=True, pattern=<rdkit.Chem.rdchem.Mol object at 0x7f7c255bb640>)>),\n",
       " ('fr_Al_OH_noTert',\n",
       "  <function rdkit.Chem.Fragments._LoadPatterns.<locals>.<lambda>(mol, countUnique=True, pattern=<rdkit.Chem.rdchem.Mol object at 0x7f7c255cb460>)>),\n",
       " ('fr_ArN',\n",
       "  <function rdkit.Chem.Fragments._LoadPatterns.<locals>.<lambda>(mol, countUnique=True, pattern=<rdkit.Chem.rdchem.Mol object at 0x7f7c255cba00>)>),\n",
       " ('fr_Ar_COO',\n",
       "  <function rdkit.Chem.Fragments._LoadPatterns.<locals>.<lambda>(mol, countUnique=True, pattern=<rdkit.Chem.rdchem.Mol object at 0x7f7c255bb9a0>)>),\n",
       " ('fr_Ar_N',\n",
       "  <function rdkit.Chem.Fragments._LoadPatterns.<locals>.<lambda>(mol, countUnique=True, pattern=<rdkit.Chem.rdchem.Mol object at 0x7f7c255bbe80>)>),\n",
       " ('fr_Ar_NH',\n",
       "  <function rdkit.Chem.Fragments._LoadPatterns.<locals>.<lambda>(mol, countUnique=True, pattern=<rdkit.Chem.rdchem.Mol object at 0x7f7c255bbee0>)>),\n",
       " ('fr_Ar_OH',\n",
       "  <function rdkit.Chem.Fragments._LoadPatterns.<locals>.<lambda>(mol, countUnique=True, pattern=<rdkit.Chem.rdchem.Mol object at 0x7f7c255bb760>)>),\n",
       " ('fr_COO',\n",
       "  <function rdkit.Chem.Fragments._LoadPatterns.<locals>.<lambda>(mol, countUnique=True, pattern=<rdkit.Chem.rdchem.Mol object at 0x7f7c255bba60>)>),\n",
       " ('fr_COO2',\n",
       "  <function rdkit.Chem.Fragments._LoadPatterns.<locals>.<lambda>(mol, countUnique=True, pattern=<rdkit.Chem.rdchem.Mol object at 0x7f7c255bbb20>)>),\n",
       " ('fr_C_O',\n",
       "  <function rdkit.Chem.Fragments._LoadPatterns.<locals>.<lambda>(mol, countUnique=True, pattern=<rdkit.Chem.rdchem.Mol object at 0x7f7c255bb520>)>),\n",
       " ('fr_C_O_noCOO',\n",
       "  <function rdkit.Chem.Fragments._LoadPatterns.<locals>.<lambda>(mol, countUnique=True, pattern=<rdkit.Chem.rdchem.Mol object at 0x7f7c255bb6a0>)>),\n",
       " ('fr_C_S',\n",
       "  <function rdkit.Chem.Fragments._LoadPatterns.<locals>.<lambda>(mol, countUnique=True, pattern=<rdkit.Chem.rdchem.Mol object at 0x7f7c255cd8e0>)>),\n",
       " ('fr_HOCCN',\n",
       "  <function rdkit.Chem.Fragments._LoadPatterns.<locals>.<lambda>(mol, countUnique=True, pattern=<rdkit.Chem.rdchem.Mol object at 0x7f7c255cba60>)>),\n",
       " ('fr_Imine',\n",
       "  <function rdkit.Chem.Fragments._LoadPatterns.<locals>.<lambda>(mol, countUnique=True, pattern=<rdkit.Chem.rdchem.Mol object at 0x7f7c255bbfa0>)>),\n",
       " ('fr_NH0',\n",
       "  <function rdkit.Chem.Fragments._LoadPatterns.<locals>.<lambda>(mol, countUnique=True, pattern=<rdkit.Chem.rdchem.Mol object at 0x7f7c255bbdc0>)>),\n",
       " ('fr_NH1',\n",
       "  <function rdkit.Chem.Fragments._LoadPatterns.<locals>.<lambda>(mol, countUnique=True, pattern=<rdkit.Chem.rdchem.Mol object at 0x7f7c255bbe20>)>),\n",
       " ('fr_NH2',\n",
       "  <function rdkit.Chem.Fragments._LoadPatterns.<locals>.<lambda>(mol, countUnique=True, pattern=<rdkit.Chem.rdchem.Mol object at 0x7f7c255bbc40>)>),\n",
       " ('fr_N_O',\n",
       "  <function rdkit.Chem.Fragments._LoadPatterns.<locals>.<lambda>(mol, countUnique=True, pattern=<rdkit.Chem.rdchem.Mol object at 0x7f7c255cd1c0>)>),\n",
       " ('fr_Ndealkylation1',\n",
       "  <function rdkit.Chem.Fragments._LoadPatterns.<locals>.<lambda>(mol, countUnique=True, pattern=<rdkit.Chem.rdchem.Mol object at 0x7f7c255cb760>)>),\n",
       " ('fr_Ndealkylation2',\n",
       "  <function rdkit.Chem.Fragments._LoadPatterns.<locals>.<lambda>(mol, countUnique=True, pattern=<rdkit.Chem.rdchem.Mol object at 0x7f7c255cb940>)>),\n",
       " ('fr_Nhpyrrole',\n",
       "  <function rdkit.Chem.Fragments._LoadPatterns.<locals>.<lambda>(mol, countUnique=True, pattern=<rdkit.Chem.rdchem.Mol object at 0x7f7c255cd580>)>),\n",
       " ('fr_SH',\n",
       "  <function rdkit.Chem.Fragments._LoadPatterns.<locals>.<lambda>(mol, countUnique=True, pattern=<rdkit.Chem.rdchem.Mol object at 0x7f7c255cd820>)>),\n",
       " ('fr_aldehyde',\n",
       "  <function rdkit.Chem.Fragments._LoadPatterns.<locals>.<lambda>(mol, countUnique=True, pattern=<rdkit.Chem.rdchem.Mol object at 0x7f7c255bbd00>)>),\n",
       " ('fr_alkyl_carbamate',\n",
       "  <function rdkit.Chem.Fragments._LoadPatterns.<locals>.<lambda>(mol, countUnique=True, pattern=<rdkit.Chem.rdchem.Mol object at 0x7f7c255cb7c0>)>),\n",
       " ('fr_alkyl_halide',\n",
       "  <function rdkit.Chem.Fragments._LoadPatterns.<locals>.<lambda>(mol, countUnique=True, pattern=<rdkit.Chem.rdchem.Mol object at 0x7f7c255cd760>)>),\n",
       " ('fr_allylic_oxid',\n",
       "  <function rdkit.Chem.Fragments._LoadPatterns.<locals>.<lambda>(mol, countUnique=True, pattern=<rdkit.Chem.rdchem.Mol object at 0x7f7c255cb700>)>),\n",
       " ('fr_amide',\n",
       "  <function rdkit.Chem.Fragments._LoadPatterns.<locals>.<lambda>(mol, countUnique=True, pattern=<rdkit.Chem.rdchem.Mol object at 0x7f7c255cd400>)>),\n",
       " ('fr_amidine',\n",
       "  <function rdkit.Chem.Fragments._LoadPatterns.<locals>.<lambda>(mol, countUnique=True, pattern=<rdkit.Chem.rdchem.Mol object at 0x7f7c255cd4c0>)>),\n",
       " ('fr_aniline',\n",
       "  <function rdkit.Chem.Fragments._LoadPatterns.<locals>.<lambda>(mol, countUnique=True, pattern=<rdkit.Chem.rdchem.Mol object at 0x7f7c255bbf40>)>),\n",
       " ('fr_aryl_methyl',\n",
       "  <function rdkit.Chem.Fragments._LoadPatterns.<locals>.<lambda>(mol, countUnique=True, pattern=<rdkit.Chem.rdchem.Mol object at 0x7f7c255cb8e0>)>),\n",
       " ('fr_azide',\n",
       "  <function rdkit.Chem.Fragments._LoadPatterns.<locals>.<lambda>(mol, countUnique=True, pattern=<rdkit.Chem.rdchem.Mol object at 0x7f7c255cd220>)>),\n",
       " ('fr_azo',\n",
       "  <function rdkit.Chem.Fragments._LoadPatterns.<locals>.<lambda>(mol, countUnique=True, pattern=<rdkit.Chem.rdchem.Mol object at 0x7f7c255cd3a0>)>),\n",
       " ('fr_barbitur',\n",
       "  <function rdkit.Chem.Fragments._LoadPatterns.<locals>.<lambda>(mol, countUnique=True, pattern=<rdkit.Chem.rdchem.Mol object at 0x7f7c255cdc40>)>),\n",
       " ('fr_benzene',\n",
       "  <function rdkit.Chem.Fragments._LoadPatterns.<locals>.<lambda>(mol, countUnique=True, pattern=<rdkit.Chem.rdchem.Mol object at 0x7f7c255cb220>)>),\n",
       " ('fr_benzodiazepine',\n",
       "  <function rdkit.Chem.Fragments._LoadPatterns.<locals>.<lambda>(mol, countUnique=True, pattern=<rdkit.Chem.rdchem.Mol object at 0x7f7c255cb640>)>),\n",
       " ('fr_bicyclic',\n",
       "  <function rdkit.Chem.Fragments._LoadPatterns.<locals>.<lambda>(mol, countUnique=True, pattern=<rdkit.Chem.rdchem.Mol object at 0x7f7c255cb1c0>)>),\n",
       " ('fr_diazo',\n",
       "  <function rdkit.Chem.Fragments._LoadPatterns.<locals>.<lambda>(mol, countUnique=True, pattern=<rdkit.Chem.rdchem.Mol object at 0x7f7c255cd340>)>),\n",
       " ('fr_dihydropyridine',\n",
       "  <function rdkit.Chem.Fragments._LoadPatterns.<locals>.<lambda>(mol, countUnique=True, pattern=<rdkit.Chem.rdchem.Mol object at 0x7f7c255cb580>)>),\n",
       " ('fr_epoxide',\n",
       "  <function rdkit.Chem.Fragments._LoadPatterns.<locals>.<lambda>(mol, countUnique=True, pattern=<rdkit.Chem.rdchem.Mol object at 0x7f7c255cb160>)>),\n",
       " ('fr_ester',\n",
       "  <function rdkit.Chem.Fragments._LoadPatterns.<locals>.<lambda>(mol, countUnique=True, pattern=<rdkit.Chem.rdchem.Mol object at 0x7f7c255bb820>)>),\n",
       " ('fr_ether',\n",
       "  <function rdkit.Chem.Fragments._LoadPatterns.<locals>.<lambda>(mol, countUnique=True, pattern=<rdkit.Chem.rdchem.Mol object at 0x7f7c255bbca0>)>),\n",
       " ('fr_furan',\n",
       "  <function rdkit.Chem.Fragments._LoadPatterns.<locals>.<lambda>(mol, countUnique=True, pattern=<rdkit.Chem.rdchem.Mol object at 0x7f7c255cdb80>)>),\n",
       " ('fr_guanido',\n",
       "  <function rdkit.Chem.Fragments._LoadPatterns.<locals>.<lambda>(mol, countUnique=True, pattern=<rdkit.Chem.rdchem.Mol object at 0x7f7c255cd520>)>),\n",
       " ('fr_halogen',\n",
       "  <function rdkit.Chem.Fragments._LoadPatterns.<locals>.<lambda>(mol, countUnique=True, pattern=<rdkit.Chem.rdchem.Mol object at 0x7f7c255cd7c0>)>),\n",
       " ('fr_hdrzine',\n",
       "  <function rdkit.Chem.Fragments._LoadPatterns.<locals>.<lambda>(mol, countUnique=True, pattern=<rdkit.Chem.rdchem.Mol object at 0x7f7c255cd100>)>),\n",
       " ('fr_hdrzone',\n",
       "  <function rdkit.Chem.Fragments._LoadPatterns.<locals>.<lambda>(mol, countUnique=True, pattern=<rdkit.Chem.rdchem.Mol object at 0x7f7c255cd0a0>)>),\n",
       " ('fr_imidazole',\n",
       "  <function rdkit.Chem.Fragments._LoadPatterns.<locals>.<lambda>(mol, countUnique=True, pattern=<rdkit.Chem.rdchem.Mol object at 0x7f7c255cdbe0>)>),\n",
       " ('fr_imide',\n",
       "  <function rdkit.Chem.Fragments._LoadPatterns.<locals>.<lambda>(mol, countUnique=True, pattern=<rdkit.Chem.rdchem.Mol object at 0x7f7c255cd5e0>)>),\n",
       " ('fr_isocyan',\n",
       "  <function rdkit.Chem.Fragments._LoadPatterns.<locals>.<lambda>(mol, countUnique=True, pattern=<rdkit.Chem.rdchem.Mol object at 0x7f7c255cd640>)>),\n",
       " ('fr_isothiocyan',\n",
       "  <function rdkit.Chem.Fragments._LoadPatterns.<locals>.<lambda>(mol, countUnique=True, pattern=<rdkit.Chem.rdchem.Mol object at 0x7f7c255cd6a0>)>),\n",
       " ('fr_ketone',\n",
       "  <function rdkit.Chem.Fragments._LoadPatterns.<locals>.<lambda>(mol, countUnique=True, pattern=<rdkit.Chem.rdchem.Mol object at 0x7f7c255bbac0>)>),\n",
       " ('fr_ketone_Topliss',\n",
       "  <function rdkit.Chem.Fragments._LoadPatterns.<locals>.<lambda>(mol, countUnique=True, pattern=<rdkit.Chem.rdchem.Mol object at 0x7f7c255cb9a0>)>),\n",
       " ('fr_lactam',\n",
       "  <function rdkit.Chem.Fragments._LoadPatterns.<locals>.<lambda>(mol, countUnique=True, pattern=<rdkit.Chem.rdchem.Mol object at 0x7f7c255cdf40>)>),\n",
       " ('fr_lactone',\n",
       "  <function rdkit.Chem.Fragments._LoadPatterns.<locals>.<lambda>(mol, countUnique=True, pattern=<rdkit.Chem.rdchem.Mol object at 0x7f7c255cb100>)>),\n",
       " ('fr_methoxy',\n",
       "  <function rdkit.Chem.Fragments._LoadPatterns.<locals>.<lambda>(mol, countUnique=True, pattern=<rdkit.Chem.rdchem.Mol object at 0x7f7c255bb7c0>)>),\n",
       " ('fr_morpholine',\n",
       "  <function rdkit.Chem.Fragments._LoadPatterns.<locals>.<lambda>(mol, countUnique=True, pattern=<rdkit.Chem.rdchem.Mol object at 0x7f7c255cdee0>)>),\n",
       " ('fr_nitrile',\n",
       "  <function rdkit.Chem.Fragments._LoadPatterns.<locals>.<lambda>(mol, countUnique=True, pattern=<rdkit.Chem.rdchem.Mol object at 0x7f7c255cd040>)>),\n",
       " ('fr_nitro',\n",
       "  <function rdkit.Chem.Fragments._LoadPatterns.<locals>.<lambda>(mol, countUnique=True, pattern=<rdkit.Chem.rdchem.Mol object at 0x7f7c255cd2e0>)>),\n",
       " ('fr_nitro_arom',\n",
       "  <function rdkit.Chem.Fragments._LoadPatterns.<locals>.<lambda>(mol, countUnique=True, pattern=<rdkit.Chem.rdchem.Mol object at 0x7f7c255cb520>)>),\n",
       " ('fr_nitro_arom_nonortho',\n",
       "  <function rdkit.Chem.Fragments._LoadPatterns.<locals>.<lambda>(mol, countUnique=True, pattern=<rdkit.Chem.rdchem.Mol object at 0x7f7c255cb400>)>),\n",
       " ('fr_nitroso',\n",
       "  <function rdkit.Chem.Fragments._LoadPatterns.<locals>.<lambda>(mol, countUnique=True, pattern=<rdkit.Chem.rdchem.Mol object at 0x7f7c255cd280>)>),\n",
       " ('fr_oxazole',\n",
       "  <function rdkit.Chem.Fragments._LoadPatterns.<locals>.<lambda>(mol, countUnique=True, pattern=<rdkit.Chem.rdchem.Mol object at 0x7f7c255cdd60>)>),\n",
       " ('fr_oxime',\n",
       "  <function rdkit.Chem.Fragments._LoadPatterns.<locals>.<lambda>(mol, countUnique=True, pattern=<rdkit.Chem.rdchem.Mol object at 0x7f7c255bb880>)>),\n",
       " ('fr_para_hydroxylation',\n",
       "  <function rdkit.Chem.Fragments._LoadPatterns.<locals>.<lambda>(mol, countUnique=True, pattern=<rdkit.Chem.rdchem.Mol object at 0x7f7c255cb820>)>),\n",
       " ('fr_phenol',\n",
       "  <function rdkit.Chem.Fragments._LoadPatterns.<locals>.<lambda>(mol, countUnique=True, pattern=<rdkit.Chem.rdchem.Mol object at 0x7f7c255bbbe0>)>),\n",
       " ('fr_phenol_noOrthoHbond',\n",
       "  <function rdkit.Chem.Fragments._LoadPatterns.<locals>.<lambda>(mol, countUnique=True, pattern=<rdkit.Chem.rdchem.Mol object at 0x7f7c255cb5e0>)>),\n",
       " ('fr_phos_acid',\n",
       "  <function rdkit.Chem.Fragments._LoadPatterns.<locals>.<lambda>(mol, countUnique=True, pattern=<rdkit.Chem.rdchem.Mol object at 0x7f7c255cb3a0>)>),\n",
       " ('fr_phos_ester',\n",
       "  <function rdkit.Chem.Fragments._LoadPatterns.<locals>.<lambda>(mol, countUnique=True, pattern=<rdkit.Chem.rdchem.Mol object at 0x7f7c255cb340>)>),\n",
       " ('fr_piperdine',\n",
       "  <function rdkit.Chem.Fragments._LoadPatterns.<locals>.<lambda>(mol, countUnique=True, pattern=<rdkit.Chem.rdchem.Mol object at 0x7f7c255cde20>)>),\n",
       " ('fr_piperzine',\n",
       "  <function rdkit.Chem.Fragments._LoadPatterns.<locals>.<lambda>(mol, countUnique=True, pattern=<rdkit.Chem.rdchem.Mol object at 0x7f7c255cde80>)>),\n",
       " ('fr_priamide',\n",
       "  <function rdkit.Chem.Fragments._LoadPatterns.<locals>.<lambda>(mol, countUnique=True, pattern=<rdkit.Chem.rdchem.Mol object at 0x7f7c255cd460>)>),\n",
       " ('fr_prisulfonamd',\n",
       "  <function rdkit.Chem.Fragments._LoadPatterns.<locals>.<lambda>(mol, countUnique=True, pattern=<rdkit.Chem.rdchem.Mol object at 0x7f7c255cdb20>)>),\n",
       " ('fr_pyridine',\n",
       "  <function rdkit.Chem.Fragments._LoadPatterns.<locals>.<lambda>(mol, countUnique=True, pattern=<rdkit.Chem.rdchem.Mol object at 0x7f7c255cddc0>)>),\n",
       " ('fr_quatN',\n",
       "  <function rdkit.Chem.Fragments._LoadPatterns.<locals>.<lambda>(mol, countUnique=True, pattern=<rdkit.Chem.rdchem.Mol object at 0x7f7c255bbd60>)>),\n",
       " ('fr_sulfide',\n",
       "  <function rdkit.Chem.Fragments._LoadPatterns.<locals>.<lambda>(mol, countUnique=True, pattern=<rdkit.Chem.rdchem.Mol object at 0x7f7c255cd880>)>),\n",
       " ('fr_sulfonamd',\n",
       "  <function rdkit.Chem.Fragments._LoadPatterns.<locals>.<lambda>(mol, countUnique=True, pattern=<rdkit.Chem.rdchem.Mol object at 0x7f7c255cdac0>)>),\n",
       " ('fr_sulfone',\n",
       "  <function rdkit.Chem.Fragments._LoadPatterns.<locals>.<lambda>(mol, countUnique=True, pattern=<rdkit.Chem.rdchem.Mol object at 0x7f7c255cda60>)>),\n",
       " ('fr_term_acetylene',\n",
       "  <function rdkit.Chem.Fragments._LoadPatterns.<locals>.<lambda>(mol, countUnique=True, pattern=<rdkit.Chem.rdchem.Mol object at 0x7f7c255cda00>)>),\n",
       " ('fr_tetrazole',\n",
       "  <function rdkit.Chem.Fragments._LoadPatterns.<locals>.<lambda>(mol, countUnique=True, pattern=<rdkit.Chem.rdchem.Mol object at 0x7f7c255cb040>)>),\n",
       " ('fr_thiazole',\n",
       "  <function rdkit.Chem.Fragments._LoadPatterns.<locals>.<lambda>(mol, countUnique=True, pattern=<rdkit.Chem.rdchem.Mol object at 0x7f7c255cdd00>)>),\n",
       " ('fr_thiocyan',\n",
       "  <function rdkit.Chem.Fragments._LoadPatterns.<locals>.<lambda>(mol, countUnique=True, pattern=<rdkit.Chem.rdchem.Mol object at 0x7f7c255cd700>)>),\n",
       " ('fr_thiophene',\n",
       "  <function rdkit.Chem.Fragments._LoadPatterns.<locals>.<lambda>(mol, countUnique=True, pattern=<rdkit.Chem.rdchem.Mol object at 0x7f7c255cdca0>)>),\n",
       " ('fr_unbrch_alkane',\n",
       "  <function rdkit.Chem.Fragments._LoadPatterns.<locals>.<lambda>(mol, countUnique=True, pattern=<rdkit.Chem.rdchem.Mol object at 0x7f7c255cb0a0>)>),\n",
       " ('fr_urea',\n",
       "  <function rdkit.Chem.Fragments._LoadPatterns.<locals>.<lambda>(mol, countUnique=True, pattern=<rdkit.Chem.rdchem.Mol object at 0x7f7c255cd9a0>)>)]"
      ]
     },
     "execution_count": 75,
     "metadata": {},
     "output_type": "execute_result"
    }
   ],
   "source": [
    "descList"
   ]
  },
  {
   "cell_type": "code",
   "execution_count": 86,
   "metadata": {},
   "outputs": [
    {
     "data": {
      "text/plain": [
       "list"
      ]
     },
     "execution_count": 86,
     "metadata": {},
     "output_type": "execute_result"
    }
   ],
   "source": [
    "type(Descriptors._descList)"
   ]
  },
  {
   "cell_type": "markdown",
   "metadata": {},
   "source": [
    "Compute all descriptors in the _descList list of the paracetamol molecule using the MoleculeDescriptors.MolecularDescriptorCalculator class"
   ]
  },
  {
   "cell_type": "code",
   "execution_count": 92,
   "metadata": {},
   "outputs": [],
   "source": [
    "#for i, function in descList:\n",
    "#    print(i)\n",
    "L = []\n",
    "for i, j in Descriptors._descList:\n",
    "    L.append(i)\n",
    "resCalc = MoleculeDescriptors.MolecularDescriptorCalculator(L, mol)"
   ]
  },
  {
   "cell_type": "markdown",
   "metadata": {
    "executionInfo": {
     "elapsed": 305,
     "status": "ok",
     "timestamp": 1629703040428,
     "user": {
      "displayName": "ngoc mac",
      "photoUrl": "",
      "userId": "17981024361133171440"
     },
     "user_tz": -120
    },
    "id": "vQcACF5K3l1y"
   },
   "source": [
    "Display the names and the fvalues of the descriptors"
   ]
  },
  {
   "cell_type": "code",
   "execution_count": 96,
   "metadata": {},
   "outputs": [
    {
     "data": {
      "text/plain": [
       "(<function rdkit.Chem.EState.EState.MaxEStateIndex(mol, force=1)>,\n",
       " <function rdkit.Chem.EState.EState.MinEStateIndex(mol, force=1)>,\n",
       " <function rdkit.Chem.EState.EState.MaxAbsEStateIndex(mol, force=1)>,\n",
       " <function rdkit.Chem.EState.EState.MinAbsEStateIndex(mol, force=1)>,\n",
       " <function rdkit.Chem.QED.qed(mol, w=QEDproperties(MW=0.66, ALOGP=0.46, HBA=0.05, HBD=0.61, PSA=0.06, ROTB=0.65, AROM=0.48, ALERTS=0.95), qedProperties=None)>,\n",
       " <function rdkit.Chem.Descriptors.<lambda>(*x, **y)>,\n",
       " <function rdkit.Chem.Descriptors.HeavyAtomMolWt(x)>,\n",
       " <function rdkit.Chem.Descriptors.<lambda>(*x, **y)>,\n",
       " <function rdkit.Chem.Descriptors.NumValenceElectrons(mol)>,\n",
       " <function rdkit.Chem.Descriptors.NumRadicalElectrons(mol)>,\n",
       " <function rdkit.Chem.Descriptors.MaxPartialCharge(mol, force=False)>,\n",
       " <function rdkit.Chem.Descriptors.MinPartialCharge(mol, force=False)>,\n",
       " <function rdkit.Chem.Descriptors.MaxAbsPartialCharge(mol, force=False)>,\n",
       " <function rdkit.Chem.Descriptors.MinAbsPartialCharge(mol, force=False)>,\n",
       " <function rdkit.Chem.Descriptors.FpDensityMorgan1(x)>,\n",
       " <function rdkit.Chem.Descriptors.FpDensityMorgan2(x)>,\n",
       " <function rdkit.Chem.Descriptors.FpDensityMorgan3(x)>,\n",
       " <function rdkit.Chem.ChemUtils.DescriptorUtilities.BCUT2D_MWHI(mol, index=0)>,\n",
       " <function rdkit.Chem.ChemUtils.DescriptorUtilities.BCUT2D_MWLOW(mol, index=1)>,\n",
       " <function rdkit.Chem.ChemUtils.DescriptorUtilities.BCUT2D_CHGHI(mol, index=2)>,\n",
       " <function rdkit.Chem.ChemUtils.DescriptorUtilities.BCUT2D_CHGLO(mol, index=3)>,\n",
       " <function rdkit.Chem.ChemUtils.DescriptorUtilities.BCUT2D_LOGPHI(mol, index=4)>,\n",
       " <function rdkit.Chem.ChemUtils.DescriptorUtilities.BCUT2D_LOGPLOW(mol, index=5)>,\n",
       " <function rdkit.Chem.ChemUtils.DescriptorUtilities.BCUT2D_MRHI(mol, index=6)>,\n",
       " <function rdkit.Chem.ChemUtils.DescriptorUtilities.BCUT2D_MRLOW(mol, index=7)>,\n",
       " <function rdkit.Chem.GraphDescriptors.BalabanJ(mol, dMat=None, forceDMat=0)>,\n",
       " <function rdkit.Chem.GraphDescriptors.BertzCT(mol, cutoff=100, dMat=None, forceDMat=1)>,\n",
       " <function rdkit.Chem.GraphDescriptors.Chi0(mol)>,\n",
       " <function rdkit.Chem.GraphDescriptors.<lambda>(x)>,\n",
       " <function rdkit.Chem.GraphDescriptors.<lambda>(x)>,\n",
       " <function rdkit.Chem.GraphDescriptors.Chi1(mol)>,\n",
       " <function rdkit.Chem.GraphDescriptors.<lambda>(x)>,\n",
       " <function rdkit.Chem.GraphDescriptors.<lambda>(x)>,\n",
       " <function rdkit.Chem.GraphDescriptors.<lambda>(x)>,\n",
       " <function rdkit.Chem.GraphDescriptors.<lambda>(x)>,\n",
       " <function rdkit.Chem.GraphDescriptors.<lambda>(x)>,\n",
       " <function rdkit.Chem.GraphDescriptors.<lambda>(x)>,\n",
       " <function rdkit.Chem.GraphDescriptors.<lambda>(x)>,\n",
       " <function rdkit.Chem.GraphDescriptors.<lambda>(x)>,\n",
       " <function rdkit.Chem.GraphDescriptors.<lambda>(x)>,\n",
       " <function rdkit.Chem.GraphDescriptors.Ipc(mol, avg=0, dMat=None, forceDMat=0)>,\n",
       " <function rdkit.Chem.GraphDescriptors.<lambda>(x)>,\n",
       " <function rdkit.Chem.GraphDescriptors.<lambda>(x)>,\n",
       " <function rdkit.Chem.GraphDescriptors.<lambda>(x)>,\n",
       " <function rdkit.Chem.MolSurf.<lambda>(*x, **y)>,\n",
       " <function rdkit.Chem.MolSurf._InstallDescriptors.<locals>.<lambda>(x, y=0)>,\n",
       " <function rdkit.Chem.MolSurf._InstallDescriptors.<locals>.<lambda>(x, y=9)>,\n",
       " <function rdkit.Chem.MolSurf._InstallDescriptors.<locals>.<lambda>(x, y=10)>,\n",
       " <function rdkit.Chem.MolSurf._InstallDescriptors.<locals>.<lambda>(x, y=11)>,\n",
       " <function rdkit.Chem.MolSurf._InstallDescriptors.<locals>.<lambda>(x, y=12)>,\n",
       " <function rdkit.Chem.MolSurf._InstallDescriptors.<locals>.<lambda>(x, y=13)>,\n",
       " <function rdkit.Chem.MolSurf._InstallDescriptors.<locals>.<lambda>(x, y=1)>,\n",
       " <function rdkit.Chem.MolSurf._InstallDescriptors.<locals>.<lambda>(x, y=2)>,\n",
       " <function rdkit.Chem.MolSurf._InstallDescriptors.<locals>.<lambda>(x, y=3)>,\n",
       " <function rdkit.Chem.MolSurf._InstallDescriptors.<locals>.<lambda>(x, y=4)>,\n",
       " <function rdkit.Chem.MolSurf._InstallDescriptors.<locals>.<lambda>(x, y=5)>,\n",
       " <function rdkit.Chem.MolSurf._InstallDescriptors.<locals>.<lambda>(x, y=6)>,\n",
       " <function rdkit.Chem.MolSurf._InstallDescriptors.<locals>.<lambda>(x, y=7)>,\n",
       " <function rdkit.Chem.MolSurf._InstallDescriptors.<locals>.<lambda>(x, y=8)>,\n",
       " <function rdkit.Chem.MolSurf._InstallDescriptors.<locals>.<lambda>(x, y=0)>,\n",
       " <function rdkit.Chem.MolSurf._InstallDescriptors.<locals>.<lambda>(x, y=9)>,\n",
       " <function rdkit.Chem.MolSurf._InstallDescriptors.<locals>.<lambda>(x, y=1)>,\n",
       " <function rdkit.Chem.MolSurf._InstallDescriptors.<locals>.<lambda>(x, y=2)>,\n",
       " <function rdkit.Chem.MolSurf._InstallDescriptors.<locals>.<lambda>(x, y=3)>,\n",
       " <function rdkit.Chem.MolSurf._InstallDescriptors.<locals>.<lambda>(x, y=4)>,\n",
       " <function rdkit.Chem.MolSurf._InstallDescriptors.<locals>.<lambda>(x, y=5)>,\n",
       " <function rdkit.Chem.MolSurf._InstallDescriptors.<locals>.<lambda>(x, y=6)>,\n",
       " <function rdkit.Chem.MolSurf._InstallDescriptors.<locals>.<lambda>(x, y=7)>,\n",
       " <function rdkit.Chem.MolSurf._InstallDescriptors.<locals>.<lambda>(x, y=8)>,\n",
       " <function rdkit.Chem.MolSurf._InstallDescriptors.<locals>.<lambda>(x, y=0)>,\n",
       " <function rdkit.Chem.MolSurf._InstallDescriptors.<locals>.<lambda>(x, y=9)>,\n",
       " <function rdkit.Chem.MolSurf._InstallDescriptors.<locals>.<lambda>(x, y=10)>,\n",
       " <function rdkit.Chem.MolSurf._InstallDescriptors.<locals>.<lambda>(x, y=11)>,\n",
       " <function rdkit.Chem.MolSurf._InstallDescriptors.<locals>.<lambda>(x, y=1)>,\n",
       " <function rdkit.Chem.MolSurf._InstallDescriptors.<locals>.<lambda>(x, y=2)>,\n",
       " <function rdkit.Chem.MolSurf._InstallDescriptors.<locals>.<lambda>(x, y=3)>,\n",
       " <function rdkit.Chem.MolSurf._InstallDescriptors.<locals>.<lambda>(x, y=4)>,\n",
       " <function rdkit.Chem.MolSurf._InstallDescriptors.<locals>.<lambda>(x, y=5)>,\n",
       " <function rdkit.Chem.MolSurf._InstallDescriptors.<locals>.<lambda>(x, y=6)>,\n",
       " <function rdkit.Chem.MolSurf._InstallDescriptors.<locals>.<lambda>(x, y=7)>,\n",
       " <function rdkit.Chem.MolSurf._InstallDescriptors.<locals>.<lambda>(x, y=8)>,\n",
       " <function rdkit.Chem.MolSurf.<lambda>(*x, **y)>,\n",
       " <function rdkit.Chem.EState.EState_VSA.EState_VSA1(mol)>,\n",
       " <function rdkit.Chem.EState.EState_VSA.EState_VSA10(mol)>,\n",
       " <function rdkit.Chem.EState.EState_VSA.EState_VSA11(mol)>,\n",
       " <function rdkit.Chem.EState.EState_VSA.EState_VSA2(mol)>,\n",
       " <function rdkit.Chem.EState.EState_VSA.EState_VSA3(mol)>,\n",
       " <function rdkit.Chem.EState.EState_VSA.EState_VSA4(mol)>,\n",
       " <function rdkit.Chem.EState.EState_VSA.EState_VSA5(mol)>,\n",
       " <function rdkit.Chem.EState.EState_VSA.EState_VSA6(mol)>,\n",
       " <function rdkit.Chem.EState.EState_VSA.EState_VSA7(mol)>,\n",
       " <function rdkit.Chem.EState.EState_VSA.EState_VSA8(mol)>,\n",
       " <function rdkit.Chem.EState.EState_VSA.EState_VSA9(mol)>,\n",
       " <function rdkit.Chem.EState.EState_VSA._descriptor_VSA_EState.<locals>.VSA_EState_bin(mol)>,\n",
       " <function rdkit.Chem.EState.EState_VSA._descriptor_VSA_EState.<locals>.VSA_EState_bin(mol)>,\n",
       " <function rdkit.Chem.EState.EState_VSA._descriptor_VSA_EState.<locals>.VSA_EState_bin(mol)>,\n",
       " <function rdkit.Chem.EState.EState_VSA._descriptor_VSA_EState.<locals>.VSA_EState_bin(mol)>,\n",
       " <function rdkit.Chem.EState.EState_VSA._descriptor_VSA_EState.<locals>.VSA_EState_bin(mol)>,\n",
       " <function rdkit.Chem.EState.EState_VSA._descriptor_VSA_EState.<locals>.VSA_EState_bin(mol)>,\n",
       " <function rdkit.Chem.EState.EState_VSA._descriptor_VSA_EState.<locals>.VSA_EState_bin(mol)>,\n",
       " <function rdkit.Chem.EState.EState_VSA._descriptor_VSA_EState.<locals>.VSA_EState_bin(mol)>,\n",
       " <function rdkit.Chem.EState.EState_VSA._descriptor_VSA_EState.<locals>.VSA_EState_bin(mol)>,\n",
       " <function rdkit.Chem.EState.EState_VSA._descriptor_VSA_EState.<locals>.VSA_EState_bin(mol)>,\n",
       " <function rdkit.Chem.Lipinski.<lambda>(x, y=<Boost.Python.function object at 0x1d3e400>)>,\n",
       " <function rdkit.Chem.Lipinski.HeavyAtomCount(mol)>,\n",
       " <function rdkit.Chem.Lipinski.<lambda>(x)>,\n",
       " <function rdkit.Chem.Lipinski.<lambda>(x)>,\n",
       " <function rdkit.Chem.Lipinski.<lambda>(x, y=<Boost.Python.function object at 0x1d10a70>)>,\n",
       " <function rdkit.Chem.Lipinski.<lambda>(x, y=<Boost.Python.function object at 0x1d10a00>)>,\n",
       " <function rdkit.Chem.Lipinski.<lambda>(x, y=<Boost.Python.function object at 0x1d4e730>)>,\n",
       " <function rdkit.Chem.Lipinski.<lambda>(x, y=<Boost.Python.function object at 0x1d291a0>)>,\n",
       " <function rdkit.Chem.Lipinski.<lambda>(x, y=<Boost.Python.function object at 0x1d29130>)>,\n",
       " <function rdkit.Chem.Lipinski.<lambda>(x, y=<Boost.Python.function object at 0x1ccd950>)>,\n",
       " <function rdkit.Chem.Lipinski.<lambda>(x)>,\n",
       " <function rdkit.Chem.Lipinski.<lambda>(x)>,\n",
       " <function rdkit.Chem.Lipinski.<lambda>(x)>,\n",
       " <function rdkit.Chem.Lipinski.<lambda>(x)>,\n",
       " <function rdkit.Chem.Lipinski.<lambda>(x, y=<Boost.Python.function object at 0x1d4e6c0>)>,\n",
       " <function rdkit.Chem.Lipinski.<lambda>(x, y=<Boost.Python.function object at 0x1cad220>)>,\n",
       " <function rdkit.Chem.Lipinski.<lambda>(x, y=<Boost.Python.function object at 0x1ca0a50>)>,\n",
       " <function rdkit.Chem.Lipinski.<lambda>(x)>,\n",
       " <function rdkit.Chem.Crippen.<lambda>(*x, **y)>,\n",
       " <function rdkit.Chem.Crippen.<lambda>(*x, **y)>,\n",
       " <function rdkit.Chem.Fragments._LoadPatterns.<locals>.<lambda>(mol, countUnique=True, pattern=<rdkit.Chem.rdchem.Mol object at 0x7f7c255bba00>)>,\n",
       " <function rdkit.Chem.Fragments._LoadPatterns.<locals>.<lambda>(mol, countUnique=True, pattern=<rdkit.Chem.rdchem.Mol object at 0x7f7c255bb640>)>,\n",
       " <function rdkit.Chem.Fragments._LoadPatterns.<locals>.<lambda>(mol, countUnique=True, pattern=<rdkit.Chem.rdchem.Mol object at 0x7f7c255cb460>)>,\n",
       " <function rdkit.Chem.Fragments._LoadPatterns.<locals>.<lambda>(mol, countUnique=True, pattern=<rdkit.Chem.rdchem.Mol object at 0x7f7c255cba00>)>,\n",
       " <function rdkit.Chem.Fragments._LoadPatterns.<locals>.<lambda>(mol, countUnique=True, pattern=<rdkit.Chem.rdchem.Mol object at 0x7f7c255bb9a0>)>,\n",
       " <function rdkit.Chem.Fragments._LoadPatterns.<locals>.<lambda>(mol, countUnique=True, pattern=<rdkit.Chem.rdchem.Mol object at 0x7f7c255bbe80>)>,\n",
       " <function rdkit.Chem.Fragments._LoadPatterns.<locals>.<lambda>(mol, countUnique=True, pattern=<rdkit.Chem.rdchem.Mol object at 0x7f7c255bbee0>)>,\n",
       " <function rdkit.Chem.Fragments._LoadPatterns.<locals>.<lambda>(mol, countUnique=True, pattern=<rdkit.Chem.rdchem.Mol object at 0x7f7c255bb760>)>,\n",
       " <function rdkit.Chem.Fragments._LoadPatterns.<locals>.<lambda>(mol, countUnique=True, pattern=<rdkit.Chem.rdchem.Mol object at 0x7f7c255bba60>)>,\n",
       " <function rdkit.Chem.Fragments._LoadPatterns.<locals>.<lambda>(mol, countUnique=True, pattern=<rdkit.Chem.rdchem.Mol object at 0x7f7c255bbb20>)>,\n",
       " <function rdkit.Chem.Fragments._LoadPatterns.<locals>.<lambda>(mol, countUnique=True, pattern=<rdkit.Chem.rdchem.Mol object at 0x7f7c255bb520>)>,\n",
       " <function rdkit.Chem.Fragments._LoadPatterns.<locals>.<lambda>(mol, countUnique=True, pattern=<rdkit.Chem.rdchem.Mol object at 0x7f7c255bb6a0>)>,\n",
       " <function rdkit.Chem.Fragments._LoadPatterns.<locals>.<lambda>(mol, countUnique=True, pattern=<rdkit.Chem.rdchem.Mol object at 0x7f7c255cd8e0>)>,\n",
       " <function rdkit.Chem.Fragments._LoadPatterns.<locals>.<lambda>(mol, countUnique=True, pattern=<rdkit.Chem.rdchem.Mol object at 0x7f7c255cba60>)>,\n",
       " <function rdkit.Chem.Fragments._LoadPatterns.<locals>.<lambda>(mol, countUnique=True, pattern=<rdkit.Chem.rdchem.Mol object at 0x7f7c255bbfa0>)>,\n",
       " <function rdkit.Chem.Fragments._LoadPatterns.<locals>.<lambda>(mol, countUnique=True, pattern=<rdkit.Chem.rdchem.Mol object at 0x7f7c255bbdc0>)>,\n",
       " <function rdkit.Chem.Fragments._LoadPatterns.<locals>.<lambda>(mol, countUnique=True, pattern=<rdkit.Chem.rdchem.Mol object at 0x7f7c255bbe20>)>,\n",
       " <function rdkit.Chem.Fragments._LoadPatterns.<locals>.<lambda>(mol, countUnique=True, pattern=<rdkit.Chem.rdchem.Mol object at 0x7f7c255bbc40>)>,\n",
       " <function rdkit.Chem.Fragments._LoadPatterns.<locals>.<lambda>(mol, countUnique=True, pattern=<rdkit.Chem.rdchem.Mol object at 0x7f7c255cd1c0>)>,\n",
       " <function rdkit.Chem.Fragments._LoadPatterns.<locals>.<lambda>(mol, countUnique=True, pattern=<rdkit.Chem.rdchem.Mol object at 0x7f7c255cb760>)>,\n",
       " <function rdkit.Chem.Fragments._LoadPatterns.<locals>.<lambda>(mol, countUnique=True, pattern=<rdkit.Chem.rdchem.Mol object at 0x7f7c255cb940>)>,\n",
       " <function rdkit.Chem.Fragments._LoadPatterns.<locals>.<lambda>(mol, countUnique=True, pattern=<rdkit.Chem.rdchem.Mol object at 0x7f7c255cd580>)>,\n",
       " <function rdkit.Chem.Fragments._LoadPatterns.<locals>.<lambda>(mol, countUnique=True, pattern=<rdkit.Chem.rdchem.Mol object at 0x7f7c255cd820>)>,\n",
       " <function rdkit.Chem.Fragments._LoadPatterns.<locals>.<lambda>(mol, countUnique=True, pattern=<rdkit.Chem.rdchem.Mol object at 0x7f7c255bbd00>)>,\n",
       " <function rdkit.Chem.Fragments._LoadPatterns.<locals>.<lambda>(mol, countUnique=True, pattern=<rdkit.Chem.rdchem.Mol object at 0x7f7c255cb7c0>)>,\n",
       " <function rdkit.Chem.Fragments._LoadPatterns.<locals>.<lambda>(mol, countUnique=True, pattern=<rdkit.Chem.rdchem.Mol object at 0x7f7c255cd760>)>,\n",
       " <function rdkit.Chem.Fragments._LoadPatterns.<locals>.<lambda>(mol, countUnique=True, pattern=<rdkit.Chem.rdchem.Mol object at 0x7f7c255cb700>)>,\n",
       " <function rdkit.Chem.Fragments._LoadPatterns.<locals>.<lambda>(mol, countUnique=True, pattern=<rdkit.Chem.rdchem.Mol object at 0x7f7c255cd400>)>,\n",
       " <function rdkit.Chem.Fragments._LoadPatterns.<locals>.<lambda>(mol, countUnique=True, pattern=<rdkit.Chem.rdchem.Mol object at 0x7f7c255cd4c0>)>,\n",
       " <function rdkit.Chem.Fragments._LoadPatterns.<locals>.<lambda>(mol, countUnique=True, pattern=<rdkit.Chem.rdchem.Mol object at 0x7f7c255bbf40>)>,\n",
       " <function rdkit.Chem.Fragments._LoadPatterns.<locals>.<lambda>(mol, countUnique=True, pattern=<rdkit.Chem.rdchem.Mol object at 0x7f7c255cb8e0>)>,\n",
       " <function rdkit.Chem.Fragments._LoadPatterns.<locals>.<lambda>(mol, countUnique=True, pattern=<rdkit.Chem.rdchem.Mol object at 0x7f7c255cd220>)>,\n",
       " <function rdkit.Chem.Fragments._LoadPatterns.<locals>.<lambda>(mol, countUnique=True, pattern=<rdkit.Chem.rdchem.Mol object at 0x7f7c255cd3a0>)>,\n",
       " <function rdkit.Chem.Fragments._LoadPatterns.<locals>.<lambda>(mol, countUnique=True, pattern=<rdkit.Chem.rdchem.Mol object at 0x7f7c255cdc40>)>,\n",
       " <function rdkit.Chem.Fragments._LoadPatterns.<locals>.<lambda>(mol, countUnique=True, pattern=<rdkit.Chem.rdchem.Mol object at 0x7f7c255cb220>)>,\n",
       " <function rdkit.Chem.Fragments._LoadPatterns.<locals>.<lambda>(mol, countUnique=True, pattern=<rdkit.Chem.rdchem.Mol object at 0x7f7c255cb640>)>,\n",
       " <function rdkit.Chem.Fragments._LoadPatterns.<locals>.<lambda>(mol, countUnique=True, pattern=<rdkit.Chem.rdchem.Mol object at 0x7f7c255cb1c0>)>,\n",
       " <function rdkit.Chem.Fragments._LoadPatterns.<locals>.<lambda>(mol, countUnique=True, pattern=<rdkit.Chem.rdchem.Mol object at 0x7f7c255cd340>)>,\n",
       " <function rdkit.Chem.Fragments._LoadPatterns.<locals>.<lambda>(mol, countUnique=True, pattern=<rdkit.Chem.rdchem.Mol object at 0x7f7c255cb580>)>,\n",
       " <function rdkit.Chem.Fragments._LoadPatterns.<locals>.<lambda>(mol, countUnique=True, pattern=<rdkit.Chem.rdchem.Mol object at 0x7f7c255cb160>)>,\n",
       " <function rdkit.Chem.Fragments._LoadPatterns.<locals>.<lambda>(mol, countUnique=True, pattern=<rdkit.Chem.rdchem.Mol object at 0x7f7c255bb820>)>,\n",
       " <function rdkit.Chem.Fragments._LoadPatterns.<locals>.<lambda>(mol, countUnique=True, pattern=<rdkit.Chem.rdchem.Mol object at 0x7f7c255bbca0>)>,\n",
       " <function rdkit.Chem.Fragments._LoadPatterns.<locals>.<lambda>(mol, countUnique=True, pattern=<rdkit.Chem.rdchem.Mol object at 0x7f7c255cdb80>)>,\n",
       " <function rdkit.Chem.Fragments._LoadPatterns.<locals>.<lambda>(mol, countUnique=True, pattern=<rdkit.Chem.rdchem.Mol object at 0x7f7c255cd520>)>,\n",
       " <function rdkit.Chem.Fragments._LoadPatterns.<locals>.<lambda>(mol, countUnique=True, pattern=<rdkit.Chem.rdchem.Mol object at 0x7f7c255cd7c0>)>,\n",
       " <function rdkit.Chem.Fragments._LoadPatterns.<locals>.<lambda>(mol, countUnique=True, pattern=<rdkit.Chem.rdchem.Mol object at 0x7f7c255cd100>)>,\n",
       " <function rdkit.Chem.Fragments._LoadPatterns.<locals>.<lambda>(mol, countUnique=True, pattern=<rdkit.Chem.rdchem.Mol object at 0x7f7c255cd0a0>)>,\n",
       " <function rdkit.Chem.Fragments._LoadPatterns.<locals>.<lambda>(mol, countUnique=True, pattern=<rdkit.Chem.rdchem.Mol object at 0x7f7c255cdbe0>)>,\n",
       " <function rdkit.Chem.Fragments._LoadPatterns.<locals>.<lambda>(mol, countUnique=True, pattern=<rdkit.Chem.rdchem.Mol object at 0x7f7c255cd5e0>)>,\n",
       " <function rdkit.Chem.Fragments._LoadPatterns.<locals>.<lambda>(mol, countUnique=True, pattern=<rdkit.Chem.rdchem.Mol object at 0x7f7c255cd640>)>,\n",
       " <function rdkit.Chem.Fragments._LoadPatterns.<locals>.<lambda>(mol, countUnique=True, pattern=<rdkit.Chem.rdchem.Mol object at 0x7f7c255cd6a0>)>,\n",
       " <function rdkit.Chem.Fragments._LoadPatterns.<locals>.<lambda>(mol, countUnique=True, pattern=<rdkit.Chem.rdchem.Mol object at 0x7f7c255bbac0>)>,\n",
       " <function rdkit.Chem.Fragments._LoadPatterns.<locals>.<lambda>(mol, countUnique=True, pattern=<rdkit.Chem.rdchem.Mol object at 0x7f7c255cb9a0>)>,\n",
       " <function rdkit.Chem.Fragments._LoadPatterns.<locals>.<lambda>(mol, countUnique=True, pattern=<rdkit.Chem.rdchem.Mol object at 0x7f7c255cdf40>)>,\n",
       " <function rdkit.Chem.Fragments._LoadPatterns.<locals>.<lambda>(mol, countUnique=True, pattern=<rdkit.Chem.rdchem.Mol object at 0x7f7c255cb100>)>,\n",
       " <function rdkit.Chem.Fragments._LoadPatterns.<locals>.<lambda>(mol, countUnique=True, pattern=<rdkit.Chem.rdchem.Mol object at 0x7f7c255bb7c0>)>,\n",
       " <function rdkit.Chem.Fragments._LoadPatterns.<locals>.<lambda>(mol, countUnique=True, pattern=<rdkit.Chem.rdchem.Mol object at 0x7f7c255cdee0>)>,\n",
       " <function rdkit.Chem.Fragments._LoadPatterns.<locals>.<lambda>(mol, countUnique=True, pattern=<rdkit.Chem.rdchem.Mol object at 0x7f7c255cd040>)>,\n",
       " <function rdkit.Chem.Fragments._LoadPatterns.<locals>.<lambda>(mol, countUnique=True, pattern=<rdkit.Chem.rdchem.Mol object at 0x7f7c255cd2e0>)>,\n",
       " <function rdkit.Chem.Fragments._LoadPatterns.<locals>.<lambda>(mol, countUnique=True, pattern=<rdkit.Chem.rdchem.Mol object at 0x7f7c255cb520>)>,\n",
       " <function rdkit.Chem.Fragments._LoadPatterns.<locals>.<lambda>(mol, countUnique=True, pattern=<rdkit.Chem.rdchem.Mol object at 0x7f7c255cb400>)>,\n",
       " <function rdkit.Chem.Fragments._LoadPatterns.<locals>.<lambda>(mol, countUnique=True, pattern=<rdkit.Chem.rdchem.Mol object at 0x7f7c255cd280>)>,\n",
       " <function rdkit.Chem.Fragments._LoadPatterns.<locals>.<lambda>(mol, countUnique=True, pattern=<rdkit.Chem.rdchem.Mol object at 0x7f7c255cdd60>)>,\n",
       " <function rdkit.Chem.Fragments._LoadPatterns.<locals>.<lambda>(mol, countUnique=True, pattern=<rdkit.Chem.rdchem.Mol object at 0x7f7c255bb880>)>,\n",
       " <function rdkit.Chem.Fragments._LoadPatterns.<locals>.<lambda>(mol, countUnique=True, pattern=<rdkit.Chem.rdchem.Mol object at 0x7f7c255cb820>)>,\n",
       " <function rdkit.Chem.Fragments._LoadPatterns.<locals>.<lambda>(mol, countUnique=True, pattern=<rdkit.Chem.rdchem.Mol object at 0x7f7c255bbbe0>)>,\n",
       " <function rdkit.Chem.Fragments._LoadPatterns.<locals>.<lambda>(mol, countUnique=True, pattern=<rdkit.Chem.rdchem.Mol object at 0x7f7c255cb5e0>)>,\n",
       " <function rdkit.Chem.Fragments._LoadPatterns.<locals>.<lambda>(mol, countUnique=True, pattern=<rdkit.Chem.rdchem.Mol object at 0x7f7c255cb3a0>)>,\n",
       " <function rdkit.Chem.Fragments._LoadPatterns.<locals>.<lambda>(mol, countUnique=True, pattern=<rdkit.Chem.rdchem.Mol object at 0x7f7c255cb340>)>,\n",
       " <function rdkit.Chem.Fragments._LoadPatterns.<locals>.<lambda>(mol, countUnique=True, pattern=<rdkit.Chem.rdchem.Mol object at 0x7f7c255cde20>)>,\n",
       " <function rdkit.Chem.Fragments._LoadPatterns.<locals>.<lambda>(mol, countUnique=True, pattern=<rdkit.Chem.rdchem.Mol object at 0x7f7c255cde80>)>,\n",
       " <function rdkit.Chem.Fragments._LoadPatterns.<locals>.<lambda>(mol, countUnique=True, pattern=<rdkit.Chem.rdchem.Mol object at 0x7f7c255cd460>)>,\n",
       " <function rdkit.Chem.Fragments._LoadPatterns.<locals>.<lambda>(mol, countUnique=True, pattern=<rdkit.Chem.rdchem.Mol object at 0x7f7c255cdb20>)>,\n",
       " <function rdkit.Chem.Fragments._LoadPatterns.<locals>.<lambda>(mol, countUnique=True, pattern=<rdkit.Chem.rdchem.Mol object at 0x7f7c255cddc0>)>,\n",
       " <function rdkit.Chem.Fragments._LoadPatterns.<locals>.<lambda>(mol, countUnique=True, pattern=<rdkit.Chem.rdchem.Mol object at 0x7f7c255bbd60>)>,\n",
       " <function rdkit.Chem.Fragments._LoadPatterns.<locals>.<lambda>(mol, countUnique=True, pattern=<rdkit.Chem.rdchem.Mol object at 0x7f7c255cd880>)>,\n",
       " <function rdkit.Chem.Fragments._LoadPatterns.<locals>.<lambda>(mol, countUnique=True, pattern=<rdkit.Chem.rdchem.Mol object at 0x7f7c255cdac0>)>,\n",
       " <function rdkit.Chem.Fragments._LoadPatterns.<locals>.<lambda>(mol, countUnique=True, pattern=<rdkit.Chem.rdchem.Mol object at 0x7f7c255cda60>)>,\n",
       " <function rdkit.Chem.Fragments._LoadPatterns.<locals>.<lambda>(mol, countUnique=True, pattern=<rdkit.Chem.rdchem.Mol object at 0x7f7c255cda00>)>,\n",
       " <function rdkit.Chem.Fragments._LoadPatterns.<locals>.<lambda>(mol, countUnique=True, pattern=<rdkit.Chem.rdchem.Mol object at 0x7f7c255cb040>)>,\n",
       " <function rdkit.Chem.Fragments._LoadPatterns.<locals>.<lambda>(mol, countUnique=True, pattern=<rdkit.Chem.rdchem.Mol object at 0x7f7c255cdd00>)>,\n",
       " <function rdkit.Chem.Fragments._LoadPatterns.<locals>.<lambda>(mol, countUnique=True, pattern=<rdkit.Chem.rdchem.Mol object at 0x7f7c255cd700>)>,\n",
       " <function rdkit.Chem.Fragments._LoadPatterns.<locals>.<lambda>(mol, countUnique=True, pattern=<rdkit.Chem.rdchem.Mol object at 0x7f7c255cdca0>)>,\n",
       " <function rdkit.Chem.Fragments._LoadPatterns.<locals>.<lambda>(mol, countUnique=True, pattern=<rdkit.Chem.rdchem.Mol object at 0x7f7c255cb0a0>)>,\n",
       " <function rdkit.Chem.Fragments._LoadPatterns.<locals>.<lambda>(mol, countUnique=True, pattern=<rdkit.Chem.rdchem.Mol object at 0x7f7c255cd9a0>)>)"
      ]
     },
     "execution_count": 96,
     "metadata": {},
     "output_type": "execute_result"
    }
   ],
   "source": [
    "resCalc.GetDescriptorFuncs()"
   ]
  },
  {
   "cell_type": "code",
   "execution_count": 94,
   "metadata": {
    "colab": {
     "base_uri": "https://localhost:8080/"
    },
    "executionInfo": {
     "elapsed": 344,
     "status": "ok",
     "timestamp": 1629703050933,
     "user": {
      "displayName": "ngoc mac",
      "photoUrl": "",
      "userId": "17981024361133171440"
     },
     "user_tz": -120
    },
    "id": "uKfd9F_93urZ",
    "outputId": "329b316b-b96b-4af4-e858-4a5e037a217f"
   },
   "outputs": [
    {
     "data": {
      "text/plain": [
       "('MaxEStateIndex',\n",
       " 'MinEStateIndex',\n",
       " 'MaxAbsEStateIndex',\n",
       " 'MinAbsEStateIndex',\n",
       " 'qed',\n",
       " 'MolWt',\n",
       " 'HeavyAtomMolWt',\n",
       " 'ExactMolWt',\n",
       " 'NumValenceElectrons',\n",
       " 'NumRadicalElectrons',\n",
       " 'MaxPartialCharge',\n",
       " 'MinPartialCharge',\n",
       " 'MaxAbsPartialCharge',\n",
       " 'MinAbsPartialCharge',\n",
       " 'FpDensityMorgan1',\n",
       " 'FpDensityMorgan2',\n",
       " 'FpDensityMorgan3',\n",
       " 'BCUT2D_MWHI',\n",
       " 'BCUT2D_MWLOW',\n",
       " 'BCUT2D_CHGHI',\n",
       " 'BCUT2D_CHGLO',\n",
       " 'BCUT2D_LOGPHI',\n",
       " 'BCUT2D_LOGPLOW',\n",
       " 'BCUT2D_MRHI',\n",
       " 'BCUT2D_MRLOW',\n",
       " 'BalabanJ',\n",
       " 'BertzCT',\n",
       " 'Chi0',\n",
       " 'Chi0n',\n",
       " 'Chi0v',\n",
       " 'Chi1',\n",
       " 'Chi1n',\n",
       " 'Chi1v',\n",
       " 'Chi2n',\n",
       " 'Chi2v',\n",
       " 'Chi3n',\n",
       " 'Chi3v',\n",
       " 'Chi4n',\n",
       " 'Chi4v',\n",
       " 'HallKierAlpha',\n",
       " 'Ipc',\n",
       " 'Kappa1',\n",
       " 'Kappa2',\n",
       " 'Kappa3',\n",
       " 'LabuteASA',\n",
       " 'PEOE_VSA1',\n",
       " 'PEOE_VSA10',\n",
       " 'PEOE_VSA11',\n",
       " 'PEOE_VSA12',\n",
       " 'PEOE_VSA13',\n",
       " 'PEOE_VSA14',\n",
       " 'PEOE_VSA2',\n",
       " 'PEOE_VSA3',\n",
       " 'PEOE_VSA4',\n",
       " 'PEOE_VSA5',\n",
       " 'PEOE_VSA6',\n",
       " 'PEOE_VSA7',\n",
       " 'PEOE_VSA8',\n",
       " 'PEOE_VSA9',\n",
       " 'SMR_VSA1',\n",
       " 'SMR_VSA10',\n",
       " 'SMR_VSA2',\n",
       " 'SMR_VSA3',\n",
       " 'SMR_VSA4',\n",
       " 'SMR_VSA5',\n",
       " 'SMR_VSA6',\n",
       " 'SMR_VSA7',\n",
       " 'SMR_VSA8',\n",
       " 'SMR_VSA9',\n",
       " 'SlogP_VSA1',\n",
       " 'SlogP_VSA10',\n",
       " 'SlogP_VSA11',\n",
       " 'SlogP_VSA12',\n",
       " 'SlogP_VSA2',\n",
       " 'SlogP_VSA3',\n",
       " 'SlogP_VSA4',\n",
       " 'SlogP_VSA5',\n",
       " 'SlogP_VSA6',\n",
       " 'SlogP_VSA7',\n",
       " 'SlogP_VSA8',\n",
       " 'SlogP_VSA9',\n",
       " 'TPSA',\n",
       " 'EState_VSA1',\n",
       " 'EState_VSA10',\n",
       " 'EState_VSA11',\n",
       " 'EState_VSA2',\n",
       " 'EState_VSA3',\n",
       " 'EState_VSA4',\n",
       " 'EState_VSA5',\n",
       " 'EState_VSA6',\n",
       " 'EState_VSA7',\n",
       " 'EState_VSA8',\n",
       " 'EState_VSA9',\n",
       " 'VSA_EState1',\n",
       " 'VSA_EState10',\n",
       " 'VSA_EState2',\n",
       " 'VSA_EState3',\n",
       " 'VSA_EState4',\n",
       " 'VSA_EState5',\n",
       " 'VSA_EState6',\n",
       " 'VSA_EState7',\n",
       " 'VSA_EState8',\n",
       " 'VSA_EState9',\n",
       " 'FractionCSP3',\n",
       " 'HeavyAtomCount',\n",
       " 'NHOHCount',\n",
       " 'NOCount',\n",
       " 'NumAliphaticCarbocycles',\n",
       " 'NumAliphaticHeterocycles',\n",
       " 'NumAliphaticRings',\n",
       " 'NumAromaticCarbocycles',\n",
       " 'NumAromaticHeterocycles',\n",
       " 'NumAromaticRings',\n",
       " 'NumHAcceptors',\n",
       " 'NumHDonors',\n",
       " 'NumHeteroatoms',\n",
       " 'NumRotatableBonds',\n",
       " 'NumSaturatedCarbocycles',\n",
       " 'NumSaturatedHeterocycles',\n",
       " 'NumSaturatedRings',\n",
       " 'RingCount',\n",
       " 'MolLogP',\n",
       " 'MolMR',\n",
       " 'fr_Al_COO',\n",
       " 'fr_Al_OH',\n",
       " 'fr_Al_OH_noTert',\n",
       " 'fr_ArN',\n",
       " 'fr_Ar_COO',\n",
       " 'fr_Ar_N',\n",
       " 'fr_Ar_NH',\n",
       " 'fr_Ar_OH',\n",
       " 'fr_COO',\n",
       " 'fr_COO2',\n",
       " 'fr_C_O',\n",
       " 'fr_C_O_noCOO',\n",
       " 'fr_C_S',\n",
       " 'fr_HOCCN',\n",
       " 'fr_Imine',\n",
       " 'fr_NH0',\n",
       " 'fr_NH1',\n",
       " 'fr_NH2',\n",
       " 'fr_N_O',\n",
       " 'fr_Ndealkylation1',\n",
       " 'fr_Ndealkylation2',\n",
       " 'fr_Nhpyrrole',\n",
       " 'fr_SH',\n",
       " 'fr_aldehyde',\n",
       " 'fr_alkyl_carbamate',\n",
       " 'fr_alkyl_halide',\n",
       " 'fr_allylic_oxid',\n",
       " 'fr_amide',\n",
       " 'fr_amidine',\n",
       " 'fr_aniline',\n",
       " 'fr_aryl_methyl',\n",
       " 'fr_azide',\n",
       " 'fr_azo',\n",
       " 'fr_barbitur',\n",
       " 'fr_benzene',\n",
       " 'fr_benzodiazepine',\n",
       " 'fr_bicyclic',\n",
       " 'fr_diazo',\n",
       " 'fr_dihydropyridine',\n",
       " 'fr_epoxide',\n",
       " 'fr_ester',\n",
       " 'fr_ether',\n",
       " 'fr_furan',\n",
       " 'fr_guanido',\n",
       " 'fr_halogen',\n",
       " 'fr_hdrzine',\n",
       " 'fr_hdrzone',\n",
       " 'fr_imidazole',\n",
       " 'fr_imide',\n",
       " 'fr_isocyan',\n",
       " 'fr_isothiocyan',\n",
       " 'fr_ketone',\n",
       " 'fr_ketone_Topliss',\n",
       " 'fr_lactam',\n",
       " 'fr_lactone',\n",
       " 'fr_methoxy',\n",
       " 'fr_morpholine',\n",
       " 'fr_nitrile',\n",
       " 'fr_nitro',\n",
       " 'fr_nitro_arom',\n",
       " 'fr_nitro_arom_nonortho',\n",
       " 'fr_nitroso',\n",
       " 'fr_oxazole',\n",
       " 'fr_oxime',\n",
       " 'fr_para_hydroxylation',\n",
       " 'fr_phenol',\n",
       " 'fr_phenol_noOrthoHbond',\n",
       " 'fr_phos_acid',\n",
       " 'fr_phos_ester',\n",
       " 'fr_piperdine',\n",
       " 'fr_piperzine',\n",
       " 'fr_priamide',\n",
       " 'fr_prisulfonamd',\n",
       " 'fr_pyridine',\n",
       " 'fr_quatN',\n",
       " 'fr_sulfide',\n",
       " 'fr_sulfonamd',\n",
       " 'fr_sulfone',\n",
       " 'fr_term_acetylene',\n",
       " 'fr_tetrazole',\n",
       " 'fr_thiazole',\n",
       " 'fr_thiocyan',\n",
       " 'fr_thiophene',\n",
       " 'fr_unbrch_alkane',\n",
       " 'fr_urea')"
      ]
     },
     "execution_count": 94,
     "metadata": {},
     "output_type": "execute_result"
    }
   ],
   "source": [
    "resCalc.descriptorNames"
   ]
  },
  {
   "cell_type": "markdown",
   "metadata": {
    "id": "gljbmF6p3RX8"
   },
   "source": [
    "### Fingerprinting\n",
    "\n",
    "\n",
    "A chemical structure can be characterized by a set of numerical values known as molecular fingerprints. They may be 2D Fragment-based fingerprints presented by bit arrays of 0s and 1s wherein each bit position indicates the presence or absence of structural fragments.\n",
    "\n",
    "\n",
    "The RDKit has a variety of built-in functionality for generating molecular fingerprints and then using them to calculate molecular similarity. In this exercise, we will generate the fingerprints for parcetamol and aspirin that are two popular drugs used for pains.\n",
    "\n",
    "\n"
   ]
  },
  {
   "cell_type": "markdown",
   "metadata": {},
   "source": [
    "\n",
    "With the help of rdkit.Chem.AllChem.GetMorganFingerprintAsBitVect, compute its fingerprint as a bit vector. "
   ]
  },
  {
   "cell_type": "code",
   "execution_count": 97,
   "metadata": {},
   "outputs": [],
   "source": [
    "from rdkit.Chem.AllChem import GetMorganFingerprintAsBitVect"
   ]
  },
  {
   "cell_type": "code",
   "execution_count": 104,
   "metadata": {},
   "outputs": [],
   "source": [
    "fp = GetMorganFingerprintAsBitVect(mol, 2)"
   ]
  },
  {
   "cell_type": "markdown",
   "metadata": {},
   "source": [
    "Display its type"
   ]
  },
  {
   "cell_type": "code",
   "execution_count": null,
   "metadata": {
    "colab": {
     "base_uri": "https://localhost:8080/"
    },
    "executionInfo": {
     "elapsed": 241,
     "status": "ok",
     "timestamp": 1629702793698,
     "user": {
      "displayName": "ngoc mac",
      "photoUrl": "",
      "userId": "17981024361133171440"
     },
     "user_tz": -120
    },
    "id": "Tev1bWf7uEod",
    "outputId": "ec52a092-12c5-4193-c8dd-400221012bf1"
   },
   "outputs": [],
   "source": []
  },
  {
   "cell_type": "markdown",
   "metadata": {},
   "source": [
    "With the DataStructs module convert it to a numpy vector and display it shape and display it"
   ]
  },
  {
   "cell_type": "code",
   "execution_count": 109,
   "metadata": {
    "colab": {
     "base_uri": "https://localhost:8080/"
    },
    "executionInfo": {
     "elapsed": 207,
     "status": "ok",
     "timestamp": 1629702913270,
     "user": {
      "displayName": "ngoc mac",
      "photoUrl": "",
      "userId": "17981024361133171440"
     },
     "user_tz": -120
    },
    "id": "9Cb8JDUe0pOw",
    "outputId": "b02963f7-1d8a-4a5e-8990-2caa165857ec"
   },
   "outputs": [],
   "source": [
    "from rdkit import DataStructs\n",
    "import numpy as np"
   ]
  },
  {
   "cell_type": "code",
   "execution_count": 113,
   "metadata": {},
   "outputs": [],
   "source": [
    "v = np.zeros((0,), dtype=np.uint8)\n",
    "DataStructs.ConvertToNumpyArray(fp, v)"
   ]
  },
  {
   "cell_type": "markdown",
   "metadata": {},
   "source": [
    "Create a function smiles_to_np_morganfingerprinting which takes a smile representation and gives back the numpy version of the morgan finger_printing"
   ]
  },
  {
   "cell_type": "code",
   "execution_count": 121,
   "metadata": {},
   "outputs": [],
   "source": [
    "def smiles_to_np_morganfinderprinting(smile):\n",
    "    v = np.zeros((0,), dtype=np.uint8)\n",
    "    DataStructs.ConvertToNumpyArray(GetMorganFingerprintAsBitVect(Chem.MolFromSmiles(smile), 2), v)\n",
    "    return v\n"
   ]
  },
  {
   "cell_type": "markdown",
   "metadata": {},
   "source": [
    "Compute the morgan finger printing of the aspirin (CC(=O)OC1=CC=CC=C1C(O)=O) and paracetamol (CC(=O)NC1=CC=C(O)C=C1)"
   ]
  },
  {
   "cell_type": "code",
   "execution_count": 122,
   "metadata": {
    "executionInfo": {
     "elapsed": 215,
     "status": "ok",
     "timestamp": 1629702957867,
     "user": {
      "displayName": "ngoc mac",
      "photoUrl": "",
      "userId": "17981024361133171440"
     },
     "user_tz": -120
    },
    "id": "8PALjOz5232Z"
   },
   "outputs": [],
   "source": [
    "fp_aspi = smiles_to_np_morganfinderprinting(\"CC(=O)OC1=CC=CC=C1C(O)=O\")"
   ]
  },
  {
   "cell_type": "code",
   "execution_count": 123,
   "metadata": {},
   "outputs": [],
   "source": [
    "fp_para = smiles_to_np_morganfinderprinting(\"CC(=O)NC1=CC=C(O)C=C1\")"
   ]
  },
  {
   "cell_type": "markdown",
   "metadata": {},
   "source": [
    "Compute the DiceSimilarity of the two molecules"
   ]
  },
  {
   "cell_type": "code",
   "execution_count": 124,
   "metadata": {
    "colab": {
     "base_uri": "https://localhost:8080/"
    },
    "executionInfo": {
     "elapsed": 856,
     "status": "ok",
     "timestamp": 1629703004674,
     "user": {
      "displayName": "ngoc mac",
      "photoUrl": "",
      "userId": "17981024361133171440"
     },
     "user_tz": -120
    },
    "id": "fxnxfRjq3jDa",
    "outputId": "965f97e9-142b-48e9-c01e-e87fbc86e033"
   },
   "outputs": [],
   "source": [
    "from rdkit.DataStructs.cDataStructs import DiceSimilarity"
   ]
  },
  {
   "cell_type": "code",
   "execution_count": 128,
   "metadata": {},
   "outputs": [
    {
     "data": {
      "text/plain": [
       "0.36363636363636365"
      ]
     },
     "execution_count": 128,
     "metadata": {},
     "output_type": "execute_result"
    }
   ],
   "source": [
    "ret = False\n",
    "DiceSimilarity(fp_aspi, fp_para, ret)"
   ]
  },
  {
   "cell_type": "markdown",
   "metadata": {
    "id": "SvHtYagP31vo"
   },
   "source": [
    "### SMART\n",
    "\n",
    "In many commonly used applications, we need to determine whether atoms in a molecule match a particular pattern. It can be used for filtering structures or identifying substructures that are associated with toxicological problem.\n",
    "\n",
    "SMART us an extension of the SMILES language that can be used to create queries.\n"
   ]
  },
  {
   "cell_type": "markdown",
   "metadata": {},
   "source": [
    "\n",
    "Find molecules in the following list named \"smiles_list\" that contain the \"CCC\" pattern (you can use the GetSubstructMatch class).\n"
   ]
  },
  {
   "cell_type": "code",
   "execution_count": null,
   "metadata": {},
   "outputs": [],
   "source": []
  },
  {
   "cell_type": "markdown",
   "metadata": {},
   "source": [
    "\n",
    "\n",
    "Highlight the pattern \"CCC\" in these molecules.\n",
    "\n"
   ]
  },
  {
   "cell_type": "code",
   "execution_count": null,
   "metadata": {},
   "outputs": [],
   "source": []
  },
  {
   "cell_type": "markdown",
   "metadata": {},
   "source": [
    "\n",
    "Do the same thing ex 1 but for the pattern \"C(=O)N\"."
   ]
  },
  {
   "cell_type": "code",
   "execution_count": null,
   "metadata": {
    "colab": {
     "base_uri": "https://localhost:8080/",
     "height": 187
    },
    "executionInfo": {
     "elapsed": 245,
     "status": "ok",
     "timestamp": 1629703088061,
     "user": {
      "displayName": "ngoc mac",
      "photoUrl": "",
      "userId": "17981024361133171440"
     },
     "user_tz": -120
    },
    "id": "mXqKwAO03xQi",
    "outputId": "df36267e-2f50-43f4-bd32-f66e9c67a79d"
   },
   "outputs": [],
   "source": []
  }
 ],
 "metadata": {
  "colab": {
   "authorship_tag": "ABX9TyNoKXr8DpL6SE63xUQunF4I",
   "collapsed_sections": [],
   "name": "Rdkit_exercise.ipynb",
   "provenance": []
  },
  "kernelspec": {
   "display_name": "Python 3 (ipykernel)",
   "language": "python",
   "name": "python3"
  },
  "language_info": {
   "codemirror_mode": {
    "name": "ipython",
    "version": 3
   },
   "file_extension": ".py",
   "mimetype": "text/x-python",
   "name": "python",
   "nbconvert_exporter": "python",
   "pygments_lexer": "ipython3",
   "version": "3.9.5"
  }
 },
 "nbformat": 4,
 "nbformat_minor": 1
}
